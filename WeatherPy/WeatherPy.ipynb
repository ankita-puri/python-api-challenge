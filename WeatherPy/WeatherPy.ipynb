{
 "cells": [
  {
   "cell_type": "markdown",
   "metadata": {},
   "source": [
    "# WeatherPy\n",
    "----\n",
    "\n",
    "#### Note\n",
    "* Instructions have been included for each segment. You do not have to follow them exactly, but they are included to help you think through the steps."
   ]
  },
  {
   "cell_type": "code",
   "execution_count": null,
   "metadata": {},
   "outputs": [],
   "source": [
    "!pip install citipy"
   ]
  },
  {
   "cell_type": "code",
   "execution_count": 70,
   "metadata": {
    "scrolled": true
   },
   "outputs": [],
   "source": [
    "import matplotlib.pyplot as plt\n",
    "import pandas as pd\n",
    "import numpy as np\n",
    "import requests\n",
    "import time\n",
    "from pprint import pprint\n",
    "import datetime\n",
    "import matplotlib.dates as mdate\n",
    "from scipy.stats import linregress\n",
    "\n",
    "# Import API key\n",
    "from config import weather_api_key\n",
    "\n",
    "# Incorporated citipy to determine city based on latitude and longitude\n",
    "from citipy import citipy\n",
    "\n",
    "# Output File (CSV)\n",
    "output_data_file = \"../WeatherPy/cities.csv\"\n",
    "\n",
    "# Range of latitudes and longitudes\n",
    "lat_range = (-90, 90)\n",
    "lng_range = (-180, 180)"
   ]
  },
  {
   "cell_type": "code",
   "execution_count": null,
   "metadata": {},
   "outputs": [],
   "source": []
  },
  {
   "cell_type": "markdown",
   "metadata": {},
   "source": [
    "## Generate Cities List"
   ]
  },
  {
   "cell_type": "code",
   "execution_count": 71,
   "metadata": {},
   "outputs": [
    {
     "data": {
      "text/plain": [
       "617"
      ]
     },
     "execution_count": 71,
     "metadata": {},
     "output_type": "execute_result"
    }
   ],
   "source": [
    "lat_lngs = []\n",
    "cities = []\n",
    "\n",
    "# Create a set of random lat and lng combinations\n",
    "lats = np.random.uniform(low=-90.000, high=90.000, size=1500)\n",
    "lngs = np.random.uniform(low=-180.000, high=180.000, size=1500)\n",
    "lat_lngs = zip(lats, lngs)\n",
    "\n",
    "# Identify nearest city for each lat, lng combination\n",
    "for lat_lng in lat_lngs:\n",
    "    city = citipy.nearest_city(lat_lng[0], lat_lng[1]).city_name\n",
    "    \n",
    "    # If the city is unique, then add it to a our cities list\n",
    "    if city not in cities:\n",
    "        cities.append(city)\n",
    "\n",
    "# Print the city count to confirm sufficient count\n",
    "len(cities)"
   ]
  },
  {
   "cell_type": "markdown",
   "metadata": {},
   "source": [
    "### Perform API Calls\n",
    "* Perform a weather check on each city using a series of successive API calls.\n",
    "* Include a print log of each city as it'sbeing processed (with the city number and city name).\n"
   ]
  },
  {
   "cell_type": "code",
   "execution_count": 5,
   "metadata": {
    "scrolled": true
   },
   "outputs": [
    {
     "name": "stdout",
     "output_type": "stream",
     "text": [
      "Started\n",
      "Processing Record 1 of Set 1 | albany\n",
      "Processing Record 2 of Set 1 | pevek\n",
      "Processing Record 3 of Set 1 | mumford\n",
      "Processing Record 4 of Set 1 | guaraniacu\n",
      "Processing Record 5 of Set 1 | saint george\n",
      "Processing Record 6 of Set 1 | kapaa\n",
      "Processing Record 7 of Set 1 | silyanah\n",
      "City not found. Skipping...\n",
      "Processing Record 8 of Set 1 | port alfred\n",
      "Processing Record 9 of Set 1 | beringovskiy\n",
      "Processing Record 10 of Set 1 | karauzyak\n",
      "City not found. Skipping...\n",
      "Processing Record 11 of Set 1 | tuatapere\n",
      "Processing Record 12 of Set 1 | ninh binh\n",
      "Processing Record 13 of Set 1 | vaini\n",
      "Processing Record 14 of Set 1 | yuzhno-yeniseyskiy\n",
      "City not found. Skipping...\n",
      "Processing Record 15 of Set 1 | bredasdorp\n",
      "Processing Record 16 of Set 1 | narsaq\n",
      "Processing Record 17 of Set 1 | beihai\n",
      "Processing Record 18 of Set 1 | klaksvik\n",
      "Processing Record 19 of Set 1 | aksu\n",
      "Processing Record 20 of Set 1 | sao filipe\n",
      "Processing Record 21 of Set 1 | chicama\n",
      "Processing Record 22 of Set 1 | nizwa\n",
      "Processing Record 23 of Set 1 | bianzhuang\n",
      "Processing Record 24 of Set 1 | butaritari\n",
      "Processing Record 25 of Set 1 | tura\n",
      "Processing Record 26 of Set 1 | qaanaaq\n",
      "Processing Record 27 of Set 1 | severo-kurilsk\n",
      "Processing Record 28 of Set 1 | dikson\n",
      "Processing Record 29 of Set 1 | castro\n",
      "Processing Record 30 of Set 1 | port hardy\n",
      "Processing Record 31 of Set 1 | oskemen\n",
      "Processing Record 32 of Set 1 | new norfolk\n",
      "Processing Record 33 of Set 1 | mataura\n",
      "Processing Record 34 of Set 1 | muros\n",
      "Processing Record 35 of Set 1 | upernavik\n",
      "Processing Record 36 of Set 1 | ponta do sol\n",
      "Processing Record 37 of Set 1 | babanka\n",
      "Processing Record 38 of Set 1 | saldanha\n",
      "Processing Record 39 of Set 1 | filadelfia\n",
      "Processing Record 40 of Set 1 | dolbeau\n",
      "City not found. Skipping...\n",
      "Processing Record 41 of Set 1 | alugan\n",
      "Processing Record 42 of Set 1 | lorengau\n",
      "Processing Record 43 of Set 1 | namibe\n",
      "Processing Record 44 of Set 1 | robertsport\n",
      "Processing Record 45 of Set 1 | niquero\n",
      "Processing Record 46 of Set 1 | rikitea\n",
      "Processing Record 47 of Set 1 | mount gambier\n",
      "Processing Record 48 of Set 1 | barentsburg\n",
      "City not found. Skipping...\n",
      "Processing Record 49 of Set 1 | cidreira\n",
      "Processing Record 50 of Set 1 | ushuaia\n",
      "Processing Record 1 of Set 2 | grand river south east\n",
      "City not found. Skipping...\n",
      "Processing Record 2 of Set 2 | labuhan\n",
      "Processing Record 3 of Set 2 | katsuura\n",
      "Processing Record 4 of Set 2 | northport\n",
      "Processing Record 5 of Set 2 | hermanus\n",
      "Processing Record 6 of Set 2 | lakes entrance\n",
      "Processing Record 7 of Set 2 | busselton\n",
      "Processing Record 8 of Set 2 | cape town\n",
      "Processing Record 9 of Set 2 | krasnorechenskiy\n",
      "Processing Record 10 of Set 2 | bluff\n",
      "Processing Record 11 of Set 2 | kruisfontein\n",
      "Processing Record 12 of Set 2 | linhares\n",
      "Processing Record 13 of Set 2 | amderma\n",
      "City not found. Skipping...\n",
      "Processing Record 14 of Set 2 | aktash\n",
      "Processing Record 15 of Set 2 | porto novo\n",
      "Processing Record 16 of Set 2 | jamestown\n",
      "Processing Record 17 of Set 2 | olafsvik\n",
      "Processing Record 18 of Set 2 | saskylakh\n",
      "Processing Record 19 of Set 2 | hirara\n",
      "Processing Record 20 of Set 2 | toguchin\n",
      "Processing Record 21 of Set 2 | sechura\n",
      "Processing Record 22 of Set 2 | san andres\n",
      "Processing Record 23 of Set 2 | nanortalik\n",
      "Processing Record 24 of Set 2 | mehamn\n",
      "Processing Record 25 of Set 2 | westport\n",
      "Processing Record 26 of Set 2 | hihifo\n",
      "City not found. Skipping...\n",
      "Processing Record 27 of Set 2 | puerto ayora\n",
      "Processing Record 28 of Set 2 | batagay-alyta\n",
      "Processing Record 29 of Set 2 | homestead\n",
      "Processing Record 30 of Set 2 | georgetown\n",
      "Processing Record 31 of Set 2 | saint-philippe\n",
      "Processing Record 32 of Set 2 | kununurra\n",
      "Processing Record 33 of Set 2 | punta arenas\n",
      "Processing Record 34 of Set 2 | sitka\n",
      "Processing Record 35 of Set 2 | sisimiut\n",
      "Processing Record 36 of Set 2 | yellowknife\n",
      "Processing Record 37 of Set 2 | yarmouth\n",
      "Processing Record 38 of Set 2 | ilulissat\n",
      "Processing Record 39 of Set 2 | atuona\n",
      "Processing Record 40 of Set 2 | hauterive\n",
      "Processing Record 41 of Set 2 | carnarvon\n",
      "Processing Record 42 of Set 2 | attawapiskat\n",
      "City not found. Skipping...\n",
      "Processing Record 43 of Set 2 | ahuimanu\n",
      "Processing Record 44 of Set 2 | chokurdakh\n",
      "Processing Record 45 of Set 2 | luba\n",
      "Processing Record 46 of Set 2 | broome\n",
      "Processing Record 47 of Set 2 | waddan\n",
      "Processing Record 48 of Set 2 | east london\n",
      "Processing Record 49 of Set 2 | rawson\n",
      "Processing Record 50 of Set 2 | wanaka\n",
      "Processing Record 1 of Set 3 | khandyga\n",
      "Processing Record 2 of Set 3 | shingu\n",
      "Processing Record 3 of Set 3 | kemin\n",
      "Processing Record 4 of Set 3 | karratha\n",
      "Processing Record 5 of Set 3 | melito di porto salvo\n",
      "Processing Record 6 of Set 3 | marsaxlokk\n",
      "Processing Record 7 of Set 3 | fare\n",
      "Processing Record 8 of Set 3 | talnakh\n",
      "Processing Record 9 of Set 3 | sol-iletsk\n",
      "Processing Record 10 of Set 3 | norman wells\n",
      "Processing Record 11 of Set 3 | hambantota\n",
      "Processing Record 12 of Set 3 | springdale\n",
      "Processing Record 13 of Set 3 | saint anthony\n",
      "Processing Record 14 of Set 3 | cabo san lucas\n",
      "Processing Record 15 of Set 3 | luderitz\n",
      "Processing Record 16 of Set 3 | ribeira grande\n",
      "Processing Record 17 of Set 3 | jiayuguan\n",
      "Processing Record 18 of Set 3 | kodiak\n",
      "Processing Record 19 of Set 3 | palabuhanratu\n",
      "City not found. Skipping...\n",
      "Processing Record 20 of Set 3 | okandja\n",
      "City not found. Skipping...\n",
      "Processing Record 21 of Set 3 | esperance\n",
      "Processing Record 22 of Set 3 | alyangula\n",
      "Processing Record 23 of Set 3 | nemyriv\n",
      "Processing Record 24 of Set 3 | ashta\n",
      "Processing Record 25 of Set 3 | espanola\n",
      "Processing Record 26 of Set 3 | yeppoon\n",
      "Processing Record 27 of Set 3 | soyo\n",
      "Processing Record 28 of Set 3 | vila franca do campo\n",
      "Processing Record 29 of Set 3 | xining\n",
      "Processing Record 30 of Set 3 | constitucion\n",
      "Processing Record 31 of Set 3 | osakasayama\n",
      "Processing Record 32 of Set 3 | bambous virieux\n",
      "Processing Record 33 of Set 3 | marzuq\n",
      "Processing Record 34 of Set 3 | barrow\n",
      "Processing Record 35 of Set 3 | tuktoyaktuk\n",
      "Processing Record 36 of Set 3 | lagoa\n",
      "Processing Record 37 of Set 3 | anshun\n",
      "Processing Record 38 of Set 3 | saint-francois\n",
      "Processing Record 39 of Set 3 | hobart\n",
      "Processing Record 40 of Set 3 | los llanos de aridane\n",
      "Processing Record 41 of Set 3 | victoria\n",
      "Processing Record 42 of Set 3 | hasaki\n",
      "Processing Record 43 of Set 3 | yulara\n",
      "Processing Record 44 of Set 3 | ahipara\n",
      "Processing Record 45 of Set 3 | takoradi\n",
      "Processing Record 46 of Set 3 | phan thiet\n",
      "Processing Record 47 of Set 3 | portland\n",
      "Processing Record 48 of Set 3 | changji\n",
      "Processing Record 49 of Set 3 | zhuozhou\n",
      "City not found. Skipping...\n",
      "Processing Record 50 of Set 3 | carballo\n",
      "Processing Record 1 of Set 4 | seydisehir\n",
      "Processing Record 2 of Set 4 | devavanya\n",
      "Processing Record 3 of Set 4 | nikolskoye\n",
      "Processing Record 4 of Set 4 | miri\n",
      "Processing Record 5 of Set 4 | sibolga\n",
      "Processing Record 6 of Set 4 | padang\n",
      "Processing Record 7 of Set 4 | ayer itam\n",
      "City not found. Skipping...\n",
      "Processing Record 8 of Set 4 | satitoa\n",
      "City not found. Skipping...\n",
      "Processing Record 9 of Set 4 | eureka\n",
      "Processing Record 10 of Set 4 | baykit\n",
      "Processing Record 11 of Set 4 | fayaoue\n",
      "Processing Record 12 of Set 4 | kupang\n",
      "Processing Record 13 of Set 4 | sao jose da coroa grande\n",
      "Processing Record 14 of Set 4 | kerema\n",
      "Processing Record 15 of Set 4 | tsihombe\n",
      "City not found. Skipping...\n",
      "Processing Record 16 of Set 4 | walvis bay\n",
      "Processing Record 17 of Set 4 | nizhneyansk\n",
      "City not found. Skipping...\n",
      "Processing Record 18 of Set 4 | anadyr\n",
      "Processing Record 19 of Set 4 | marcona\n",
      "City not found. Skipping...\n",
      "Processing Record 20 of Set 4 | thompson\n",
      "Processing Record 21 of Set 4 | fortuna\n",
      "Processing Record 22 of Set 4 | adre\n",
      "Processing Record 23 of Set 4 | yantal\n",
      "Processing Record 24 of Set 4 | san quintin\n",
      "Processing Record 25 of Set 4 | murray bridge\n",
      "Processing Record 26 of Set 4 | puerto del rosario\n",
      "Processing Record 27 of Set 4 | gulshat\n",
      "City not found. Skipping...\n",
      "Processing Record 28 of Set 4 | sao joao da barra\n",
      "Processing Record 29 of Set 4 | kremenchuk\n",
      "Processing Record 30 of Set 4 | axim\n",
      "Processing Record 31 of Set 4 | illoqqortoormiut\n",
      "City not found. Skipping...\n",
      "Processing Record 32 of Set 4 | tunghsiao\n",
      "City not found. Skipping...\n",
      "Processing Record 33 of Set 4 | volchikha\n",
      "Processing Record 34 of Set 4 | nhulunbuy\n"
     ]
    },
    {
     "name": "stdout",
     "output_type": "stream",
     "text": [
      "Processing Record 35 of Set 4 | tual\n",
      "Processing Record 36 of Set 4 | tiksi\n",
      "Processing Record 37 of Set 4 | ancud\n",
      "Processing Record 38 of Set 4 | lokosovo\n",
      "Processing Record 39 of Set 4 | cayenne\n",
      "Processing Record 40 of Set 4 | port elizabeth\n",
      "Processing Record 41 of Set 4 | avarua\n",
      "Processing Record 42 of Set 4 | clyde river\n",
      "Processing Record 43 of Set 4 | waipawa\n",
      "Processing Record 44 of Set 4 | nome\n",
      "Processing Record 45 of Set 4 | chuy\n",
      "Processing Record 46 of Set 4 | sumbawa\n",
      "City not found. Skipping...\n",
      "Processing Record 47 of Set 4 | kutum\n",
      "Processing Record 48 of Set 4 | qaqortoq\n",
      "Processing Record 49 of Set 4 | puro\n",
      "Processing Record 50 of Set 4 | ouallam\n",
      "Processing Record 1 of Set 5 | hilo\n",
      "Processing Record 2 of Set 5 | arlit\n",
      "Processing Record 3 of Set 5 | telma\n",
      "Processing Record 4 of Set 5 | arraial do cabo\n",
      "Processing Record 5 of Set 5 | nueva loja\n",
      "Processing Record 6 of Set 5 | lebu\n",
      "Processing Record 7 of Set 5 | airai\n",
      "Processing Record 8 of Set 5 | koudougou\n",
      "Processing Record 9 of Set 5 | kamenskoye\n",
      "City not found. Skipping...\n",
      "Processing Record 10 of Set 5 | la ronge\n",
      "Processing Record 11 of Set 5 | paamiut\n",
      "Processing Record 12 of Set 5 | dolores\n",
      "Processing Record 13 of Set 5 | staraya mayna\n",
      "Processing Record 14 of Set 5 | birjand\n",
      "Processing Record 15 of Set 5 | taolanaro\n",
      "City not found. Skipping...\n",
      "Processing Record 16 of Set 5 | vestmannaeyjar\n",
      "Processing Record 17 of Set 5 | kahului\n",
      "Processing Record 18 of Set 5 | faanui\n",
      "Processing Record 19 of Set 5 | bandundu\n",
      "Processing Record 20 of Set 5 | kibala\n",
      "Processing Record 21 of Set 5 | alamos\n",
      "Processing Record 22 of Set 5 | parabel\n",
      "Processing Record 23 of Set 5 | egvekinot\n",
      "Processing Record 24 of Set 5 | karaul\n",
      "City not found. Skipping...\n",
      "Processing Record 25 of Set 5 | aykhal\n",
      "Processing Record 26 of Set 5 | puerto padre\n",
      "Processing Record 27 of Set 5 | college\n",
      "Processing Record 28 of Set 5 | bethel\n",
      "Processing Record 29 of Set 5 | atambua\n",
      "Processing Record 30 of Set 5 | mujiayingzi\n",
      "Processing Record 31 of Set 5 | brae\n",
      "Processing Record 32 of Set 5 | hithadhoo\n",
      "Processing Record 33 of Set 5 | petropavlovsk-kamchatskiy\n",
      "Processing Record 34 of Set 5 | hammerfest\n",
      "Processing Record 35 of Set 5 | geraldton\n",
      "Processing Record 36 of Set 5 | raudeberg\n",
      "Processing Record 37 of Set 5 | sentyabrskiy\n",
      "City not found. Skipping...\n",
      "Processing Record 38 of Set 5 | belogorsk\n",
      "Processing Record 39 of Set 5 | meulaboh\n",
      "Processing Record 40 of Set 5 | nautla\n",
      "Processing Record 41 of Set 5 | marovoay\n",
      "Processing Record 42 of Set 5 | quatre cocos\n",
      "Processing Record 43 of Set 5 | mezen\n",
      "Processing Record 44 of Set 5 | asau\n",
      "Processing Record 45 of Set 5 | cherskiy\n",
      "Processing Record 46 of Set 5 | balatan\n",
      "Processing Record 47 of Set 5 | tumannyy\n",
      "City not found. Skipping...\n",
      "Processing Record 48 of Set 5 | rio gallegos\n",
      "Processing Record 49 of Set 5 | mount isa\n",
      "Processing Record 50 of Set 5 | te anau\n",
      "Processing Record 1 of Set 6 | mar del plata\n",
      "Processing Record 2 of Set 6 | isangel\n",
      "Processing Record 3 of Set 6 | iqaluit\n",
      "Processing Record 4 of Set 6 | smirnykh\n",
      "Processing Record 5 of Set 6 | denpasar\n",
      "Processing Record 6 of Set 6 | anloga\n",
      "Processing Record 7 of Set 6 | hualmay\n",
      "Processing Record 8 of Set 6 | chirongui\n",
      "Processing Record 9 of Set 6 | rocha\n",
      "Processing Record 10 of Set 6 | khipro\n",
      "Processing Record 11 of Set 6 | pontian kecil\n",
      "Processing Record 12 of Set 6 | yeletskiy\n",
      "City not found. Skipping...\n",
      "Processing Record 13 of Set 6 | barcelos\n",
      "Processing Record 14 of Set 6 | akom\n",
      "Processing Record 15 of Set 6 | tsiroanomandidy\n",
      "Processing Record 16 of Set 6 | mareeba\n",
      "Processing Record 17 of Set 6 | fairbanks\n",
      "Processing Record 18 of Set 6 | kholtoson\n",
      "Processing Record 19 of Set 6 | da-an\n",
      "City not found. Skipping...\n",
      "Processing Record 20 of Set 6 | sarasota\n",
      "Processing Record 21 of Set 6 | floriano\n",
      "Processing Record 22 of Set 6 | belaya gora\n",
      "Processing Record 23 of Set 6 | kunming\n",
      "Processing Record 24 of Set 6 | west bay\n",
      "Processing Record 25 of Set 6 | vaitupu\n",
      "City not found. Skipping...\n",
      "Processing Record 26 of Set 6 | warri\n",
      "Processing Record 27 of Set 6 | caravelas\n",
      "Processing Record 28 of Set 6 | iroquois falls\n",
      "Processing Record 29 of Set 6 | zverinogolovskoye\n",
      "Processing Record 30 of Set 6 | kazalinsk\n",
      "City not found. Skipping...\n",
      "Processing Record 31 of Set 6 | gazanjyk\n",
      "Processing Record 32 of Set 6 | coquimbo\n",
      "Processing Record 33 of Set 6 | banjar\n",
      "Processing Record 34 of Set 6 | coihaique\n",
      "Processing Record 35 of Set 6 | puqi\n",
      "Processing Record 36 of Set 6 | teknaf\n",
      "Processing Record 37 of Set 6 | fez\n",
      "Processing Record 38 of Set 6 | cap malheureux\n",
      "Processing Record 39 of Set 6 | araouane\n",
      "Processing Record 40 of Set 6 | kitimat\n",
      "Processing Record 41 of Set 6 | skegness\n",
      "Processing Record 42 of Set 6 | mys shmidta\n",
      "City not found. Skipping...\n",
      "Processing Record 43 of Set 6 | dickinson\n",
      "Processing Record 44 of Set 6 | avera\n",
      "Processing Record 45 of Set 6 | mul\n",
      "Processing Record 46 of Set 6 | hami\n",
      "Processing Record 47 of Set 6 | pingzhuang\n",
      "Processing Record 48 of Set 6 | bilma\n",
      "Processing Record 49 of Set 6 | synya\n",
      "Processing Record 50 of Set 6 | sabha\n",
      "Processing Record 1 of Set 7 | chipinge\n",
      "Processing Record 2 of Set 7 | zaysan\n",
      "Processing Record 3 of Set 7 | wakkanai\n",
      "Processing Record 4 of Set 7 | banda aceh\n",
      "Processing Record 5 of Set 7 | bam\n",
      "Processing Record 6 of Set 7 | nguiu\n",
      "City not found. Skipping...\n",
      "Processing Record 7 of Set 7 | cumaribo\n",
      "City not found. Skipping...\n",
      "Processing Record 8 of Set 7 | mehran\n",
      "Processing Record 9 of Set 7 | nuuk\n",
      "Processing Record 10 of Set 7 | tabiauea\n",
      "City not found. Skipping...\n",
      "Processing Record 11 of Set 7 | longyearbyen\n",
      "Processing Record 12 of Set 7 | saint-denis\n",
      "Processing Record 13 of Set 7 | kargasok\n",
      "Processing Record 14 of Set 7 | kavieng\n",
      "Processing Record 15 of Set 7 | nola\n",
      "Processing Record 16 of Set 7 | nelson bay\n",
      "Processing Record 17 of Set 7 | luoyang\n",
      "Processing Record 18 of Set 7 | puerto madryn\n",
      "Processing Record 19 of Set 7 | santa cruz das palmeiras\n",
      "Processing Record 20 of Set 7 | bokspits\n",
      "City not found. Skipping...\n",
      "Processing Record 21 of Set 7 | kaitangata\n",
      "Processing Record 22 of Set 7 | bereda\n",
      "Processing Record 23 of Set 7 | gondanglegi\n",
      "Processing Record 24 of Set 7 | hvammstangi\n",
      "City not found. Skipping...\n",
      "Processing Record 25 of Set 7 | marica\n",
      "Processing Record 26 of Set 7 | riberalta\n",
      "Processing Record 27 of Set 7 | hofn\n",
      "Processing Record 28 of Set 7 | havoysund\n",
      "Processing Record 29 of Set 7 | sal rei\n",
      "Processing Record 30 of Set 7 | chake chake\n",
      "Processing Record 31 of Set 7 | ohara\n",
      "Processing Record 32 of Set 7 | tanhuato\n",
      "City not found. Skipping...\n",
      "Processing Record 33 of Set 7 | muhos\n",
      "Processing Record 34 of Set 7 | semey\n",
      "Processing Record 35 of Set 7 | nurobod\n",
      "Processing Record 36 of Set 7 | kango\n",
      "Processing Record 37 of Set 7 | belushya guba\n",
      "City not found. Skipping...\n",
      "Processing Record 38 of Set 7 | borba\n",
      "Processing Record 39 of Set 7 | camargo\n",
      "Processing Record 40 of Set 7 | lompoc\n",
      "Processing Record 41 of Set 7 | aklavik\n",
      "Processing Record 42 of Set 7 | grindavik\n",
      "Processing Record 43 of Set 7 | port hedland\n",
      "Processing Record 44 of Set 7 | lishu\n",
      "Processing Record 45 of Set 7 | zaria\n",
      "Processing Record 46 of Set 7 | kungurtug\n",
      "Processing Record 47 of Set 7 | ugoofaaru\n",
      "Processing Record 48 of Set 7 | zhoucheng\n",
      "Processing Record 49 of Set 7 | samarai\n",
      "Processing Record 50 of Set 7 | pemangkat\n",
      "Processing Record 1 of Set 8 | southbridge\n",
      "Processing Record 2 of Set 8 | chacabuco\n",
      "Processing Record 3 of Set 8 | mahajanga\n",
      "Processing Record 4 of Set 8 | merritt\n",
      "Processing Record 5 of Set 8 | camocim\n",
      "Processing Record 6 of Set 8 | rabo de peixe\n",
      "Processing Record 7 of Set 8 | erenhot\n",
      "Processing Record 8 of Set 8 | falealupo\n",
      "City not found. Skipping...\n",
      "Processing Record 9 of Set 8 | sirsi\n",
      "Processing Record 10 of Set 8 | linxia\n",
      "Processing Record 11 of Set 8 | alta floresta\n",
      "Processing Record 12 of Set 8 | shimoda\n",
      "Processing Record 13 of Set 8 | waingapu\n",
      "Processing Record 14 of Set 8 | pinawa\n",
      "Processing Record 15 of Set 8 | buckeye\n",
      "Processing Record 16 of Set 8 | yining\n",
      "Processing Record 17 of Set 8 | isiolo\n",
      "Processing Record 18 of Set 8 | khromtau\n",
      "Processing Record 19 of Set 8 | joshimath\n",
      "Processing Record 20 of Set 8 | gimli\n",
      "Processing Record 21 of Set 8 | inhambane\n",
      "Processing Record 22 of Set 8 | norrtalje\n"
     ]
    },
    {
     "name": "stdout",
     "output_type": "stream",
     "text": [
      "Processing Record 23 of Set 8 | tasiilaq\n",
      "Processing Record 24 of Set 8 | darhan\n",
      "Processing Record 25 of Set 8 | chagda\n",
      "City not found. Skipping...\n",
      "Processing Record 26 of Set 8 | bo phloi\n",
      "Processing Record 27 of Set 8 | tonj\n",
      "Processing Record 28 of Set 8 | mata\n",
      "Processing Record 29 of Set 8 | tucupita\n",
      "Processing Record 30 of Set 8 | maarianhamina\n",
      "Processing Record 31 of Set 8 | sakakah\n",
      "Processing Record 32 of Set 8 | mazyr\n",
      "Processing Record 33 of Set 8 | geylegphug\n",
      "City not found. Skipping...\n",
      "Processing Record 34 of Set 8 | husavik\n",
      "Processing Record 35 of Set 8 | kapit\n",
      "Processing Record 36 of Set 8 | lolua\n",
      "City not found. Skipping...\n",
      "Processing Record 37 of Set 8 | san cristobal\n",
      "Processing Record 38 of Set 8 | adrar\n",
      "Processing Record 39 of Set 8 | torbay\n",
      "Processing Record 40 of Set 8 | tautira\n",
      "Processing Record 41 of Set 8 | gunzenhausen\n",
      "Processing Record 42 of Set 8 | srednekolymsk\n",
      "Processing Record 43 of Set 8 | ghoti\n",
      "Processing Record 44 of Set 8 | pitimbu\n",
      "Processing Record 45 of Set 8 | vagur\n",
      "Processing Record 46 of Set 8 | cianorte\n",
      "Processing Record 47 of Set 8 | burnie\n",
      "Processing Record 48 of Set 8 | tanggu\n",
      "Processing Record 49 of Set 8 | pukhrayan\n",
      "Processing Record 50 of Set 8 | libreville\n",
      "Processing Record 1 of Set 9 | bambanglipuro\n",
      "Processing Record 2 of Set 9 | tashigang\n",
      "Processing Record 3 of Set 9 | tynda\n",
      "Processing Record 4 of Set 9 | sataua\n",
      "City not found. Skipping...\n",
      "Processing Record 5 of Set 9 | havre-saint-pierre\n",
      "Processing Record 6 of Set 9 | san patricio\n",
      "Processing Record 7 of Set 9 | barnsley\n",
      "Processing Record 8 of Set 9 | sorvag\n",
      "City not found. Skipping...\n",
      "Processing Record 9 of Set 9 | kaifeng\n",
      "Processing Record 10 of Set 9 | yar-sale\n",
      "Processing Record 11 of Set 9 | inuvik\n",
      "Processing Record 12 of Set 9 | saint augustine\n",
      "Processing Record 13 of Set 9 | bonthe\n",
      "Processing Record 14 of Set 9 | boa vista\n",
      "Processing Record 15 of Set 9 | nanakuli\n",
      "Processing Record 16 of Set 9 | monrovia\n",
      "Processing Record 17 of Set 9 | mahibadhoo\n",
      "Processing Record 18 of Set 9 | gordeyevka\n",
      "Processing Record 19 of Set 9 | llaillay\n",
      "Processing Record 20 of Set 9 | saleaula\n",
      "City not found. Skipping...\n",
      "Processing Record 21 of Set 9 | menomonie\n",
      "Processing Record 22 of Set 9 | poya\n",
      "Processing Record 23 of Set 9 | poum\n",
      "Processing Record 24 of Set 9 | bengkulu\n",
      "Processing Record 25 of Set 9 | basco\n",
      "Processing Record 26 of Set 9 | ngukurr\n",
      "City not found. Skipping...\n",
      "Processing Record 27 of Set 9 | provideniya\n",
      "Processing Record 28 of Set 9 | aguimes\n",
      "Processing Record 29 of Set 9 | rawannawi\n",
      "City not found. Skipping...\n",
      "Processing Record 30 of Set 9 | mwene-ditu\n",
      "Processing Record 31 of Set 9 | samusu\n",
      "City not found. Skipping...\n",
      "Processing Record 32 of Set 9 | puerto lopez\n",
      "Processing Record 33 of Set 9 | maningrida\n",
      "Processing Record 34 of Set 9 | campbell river\n",
      "Processing Record 35 of Set 9 | mahebourg\n",
      "Processing Record 36 of Set 9 | unecha\n",
      "Processing Record 37 of Set 9 | viersen\n",
      "Processing Record 38 of Set 9 | kirakira\n",
      "Processing Record 39 of Set 9 | hobyo\n",
      "Processing Record 40 of Set 9 | khani\n",
      "Processing Record 41 of Set 9 | la palma\n",
      "Processing Record 42 of Set 9 | vilhena\n",
      "Processing Record 43 of Set 9 | omsukchan\n",
      "Processing Record 44 of Set 9 | ocos\n",
      "Processing Record 45 of Set 9 | katima mulilo\n",
      "Processing Record 46 of Set 9 | sur\n",
      "Processing Record 47 of Set 9 | mayo\n",
      "Processing Record 48 of Set 9 | alofi\n",
      "Processing Record 49 of Set 9 | qidong\n",
      "Processing Record 50 of Set 9 | pochutla\n",
      "Processing Record 1 of Set 10 | ashqelon\n",
      "Processing Record 2 of Set 10 | itoman\n",
      "Processing Record 3 of Set 10 | novoilinsk\n",
      "Processing Record 4 of Set 10 | del rio\n",
      "Processing Record 5 of Set 10 | khatanga\n",
      "Processing Record 6 of Set 10 | the pas\n",
      "Processing Record 7 of Set 10 | zhangjiakou\n",
      "Processing Record 8 of Set 10 | new ulm\n",
      "Processing Record 9 of Set 10 | kurilsk\n",
      "Processing Record 10 of Set 10 | coahuayana\n",
      "Processing Record 11 of Set 10 | ostrovnoy\n",
      "Processing Record 12 of Set 10 | taunggyi\n",
      "Processing Record 13 of Set 10 | ramsar\n",
      "Processing Record 14 of Set 10 | necochea\n",
      "Processing Record 15 of Set 10 | leningradskiy\n",
      "Processing Record 16 of Set 10 | saint andrews\n",
      "Processing Record 17 of Set 10 | togur\n",
      "Processing Record 18 of Set 10 | yarensk\n",
      "Processing Record 19 of Set 10 | champerico\n",
      "Processing Record 20 of Set 10 | timra\n",
      "Processing Record 21 of Set 10 | broken hill\n",
      "Processing Record 22 of Set 10 | garowe\n",
      "Processing Record 23 of Set 10 | byron bay\n",
      "Processing Record 24 of Set 10 | brigantine\n",
      "Processing Record 25 of Set 10 | ciudad guayana\n",
      "Processing Record 26 of Set 10 | maniitsoq\n",
      "Processing Record 27 of Set 10 | choszczno\n",
      "Processing Record 28 of Set 10 | hamilton\n",
      "Processing Record 29 of Set 10 | at-bashi\n",
      "Processing Record 30 of Set 10 | zhigansk\n",
      "Processing Record 31 of Set 10 | tricase\n",
      "Processing Record 32 of Set 10 | codrington\n",
      "Processing Record 33 of Set 10 | la paz\n",
      "Processing Record 34 of Set 10 | lamu\n",
      "Processing Record 35 of Set 10 | kisesa\n",
      "Processing Record 36 of Set 10 | colares\n",
      "Processing Record 37 of Set 10 | atar\n",
      "Processing Record 38 of Set 10 | vardo\n",
      "Processing Record 39 of Set 10 | havelock\n",
      "Processing Record 40 of Set 10 | cascais\n",
      "Processing Record 41 of Set 10 | haines junction\n",
      "Processing Record 42 of Set 10 | rungata\n",
      "City not found. Skipping...\n",
      "Processing Record 43 of Set 10 | muroto\n",
      "Processing Record 44 of Set 10 | coos bay\n",
      "Processing Record 45 of Set 10 | mandalgovi\n",
      "Processing Record 46 of Set 10 | mrirt\n",
      "City not found. Skipping...\n",
      "Processing Record 47 of Set 10 | nemuro\n",
      "Processing Record 48 of Set 10 | dubbo\n",
      "Processing Record 49 of Set 10 | itarantim\n",
      "Processing Record 50 of Set 10 | yurginskoye\n",
      "Processing Record 1 of Set 11 | okhotsk\n",
      "Processing Record 2 of Set 11 | bhaktapur\n",
      "Processing Record 3 of Set 11 | mittweida\n",
      "Processing Record 4 of Set 11 | tanout\n",
      "Processing Record 5 of Set 11 | tubruq\n",
      "City not found. Skipping...\n",
      "Processing Record 6 of Set 11 | ambunti\n",
      "Processing Record 7 of Set 11 | batagay\n",
      "Processing Record 8 of Set 11 | san francisco\n",
      "Processing Record 9 of Set 11 | mitu\n",
      "Processing Record 10 of Set 11 | lufilufi\n",
      "Processing Record 11 of Set 11 | luanda\n",
      "Processing Record 12 of Set 11 | romitan\n",
      "Processing Record 13 of Set 11 | olinda\n",
      "Processing Record 14 of Set 11 | vila velha\n",
      "Processing Record 15 of Set 11 | buraydah\n",
      "Processing Record 16 of Set 11 | nunkini\n",
      "Processing Record 17 of Set 11 | huarmey\n",
      "Processing Record 18 of Set 11 | surt\n",
      "Processing Record 19 of Set 11 | formoso do araguaia\n",
      "City not found. Skipping...\n",
      "Processing Record 20 of Set 11 | pacific grove\n",
      "Processing Record 21 of Set 11 | bilibino\n",
      "Processing Record 22 of Set 11 | marsh harbour\n",
      "Processing Record 23 of Set 11 | sabzevar\n",
      "Processing Record 24 of Set 11 | saint-pierre\n",
      "Processing Record 25 of Set 11 | gumia\n",
      "Processing Record 26 of Set 11 | sambava\n",
      "Processing Record 27 of Set 11 | sibu\n",
      "Processing Record 28 of Set 11 | santa cruz de la palma\n",
      "Processing Record 29 of Set 11 | oussouye\n",
      "Processing Record 30 of Set 11 | rongcheng\n",
      "Processing Record 31 of Set 11 | balclutha\n",
      "Processing Record 32 of Set 11 | djougou\n",
      "Processing Record 33 of Set 11 | jacqueville\n",
      "Processing Record 34 of Set 11 | port-gentil\n",
      "Processing Record 35 of Set 11 | linfen\n",
      "Processing Record 36 of Set 11 | chabahar\n",
      "Processing Record 37 of Set 11 | tuggurt\n",
      "City not found. Skipping...\n",
      "Processing Record 38 of Set 11 | antalaha\n",
      "Processing Record 39 of Set 11 | les cayes\n",
      "Processing Record 40 of Set 11 | henties bay\n",
      "Processing Record 41 of Set 11 | samalaeulu\n",
      "City not found. Skipping...\n",
      "Processing Record 42 of Set 11 | tarko-sale\n",
      "Processing Record 43 of Set 11 | ginir\n",
      "Processing Record 44 of Set 11 | capoterra\n",
      "Processing Record 45 of Set 11 | borogontsy\n",
      "Processing Record 46 of Set 11 | angra\n",
      "City not found. Skipping...\n",
      "Processing Record 47 of Set 11 | honiara\n",
      "Processing Record 48 of Set 11 | roald\n",
      "Processing Record 49 of Set 11 | deer lake\n",
      "Processing Record 50 of Set 11 | kalmunai\n",
      "Processing Record 1 of Set 12 | knysna\n",
      "Processing Record 2 of Set 12 | huanren\n",
      "Processing Record 3 of Set 12 | boende\n",
      "Processing Record 4 of Set 12 | oranjemund\n",
      "Processing Record 5 of Set 12 | touros\n",
      "Processing Record 6 of Set 12 | tori\n",
      "Processing Record 7 of Set 12 | zdzieszowice\n",
      "Processing Record 8 of Set 12 | hella\n",
      "Processing Record 9 of Set 12 | novikovo\n"
     ]
    },
    {
     "name": "stdout",
     "output_type": "stream",
     "text": [
      "Processing Record 10 of Set 12 | soria\n",
      "Processing Record 11 of Set 12 | harper\n",
      "Processing Record 12 of Set 12 | cockburn town\n",
      "Processing Record 13 of Set 12 | gat\n",
      "Processing Record 14 of Set 12 | aksarka\n",
      "Processing Record 15 of Set 12 | buenavista\n",
      "Processing Record 16 of Set 12 | songjianghe\n",
      "Processing Record 17 of Set 12 | charters towers\n",
      "Processing Record 18 of Set 12 | marion\n",
      "Processing Record 19 of Set 12 | christchurch\n",
      "Processing Record 20 of Set 12 | tessalit\n",
      "Processing Record 21 of Set 12 | nouadhibou\n",
      "Processing Record 22 of Set 12 | mahmudia\n",
      "Processing Record 23 of Set 12 | umzimvubu\n",
      "City not found. Skipping...\n",
      "Processing Record 24 of Set 12 | corinto\n",
      "Processing Record 25 of Set 12 | sinnamary\n",
      "Processing Record 26 of Set 12 | alihe\n",
      "Processing Record 27 of Set 12 | korla\n",
      "Processing Record 28 of Set 12 | margate\n",
      "Processing Record 29 of Set 12 | gubkinskiy\n",
      "Processing Record 30 of Set 12 | viedma\n",
      "Processing Record 31 of Set 12 | san pedro\n",
      "Processing Record 32 of Set 12 | kashin\n",
      "Processing Record 33 of Set 12 | bogotol\n",
      "Processing Record 34 of Set 12 | mirabad\n",
      "Processing Record 35 of Set 12 | imeni poliny osipenko\n",
      "Processing Record 36 of Set 12 | pisco\n",
      "Processing Record 37 of Set 12 | spirit river\n",
      "Processing Record 38 of Set 12 | huilong\n",
      "Processing Record 39 of Set 12 | camara de lobos\n",
      "Processing Record 40 of Set 12 | agboville\n",
      "Processing Record 41 of Set 12 | thanh hoa\n",
      "Processing Record 42 of Set 12 | kalawit\n",
      "Processing Record 43 of Set 12 | kokopo\n",
      "Processing Record 44 of Set 12 | naze\n",
      "Processing Record 45 of Set 12 | itaqui\n",
      "Processing Record 46 of Set 12 | chadan\n",
      "Processing Record 47 of Set 12 | play cu\n",
      "City not found. Skipping...\n",
      "Processing Record 48 of Set 12 | banff\n",
      "Processing Record 49 of Set 12 | siteki\n",
      "Processing Record 50 of Set 12 | dobrinka\n",
      "Processing Record 1 of Set 13 | chernyshevskiy\n",
      "Processing Record 2 of Set 13 | ayan\n",
      "Processing Record 3 of Set 13 | alice springs\n",
      "Processing Record 4 of Set 13 | tortoli\n",
      "Processing Record 5 of Set 13 | port lincoln\n",
      "Processing Record 6 of Set 13 | dali\n",
      "Processing Record 7 of Set 13 | hervey bay\n",
      "Processing Record 8 of Set 13 | madingou\n",
      "Processing Record 9 of Set 13 | juneau\n",
      "Processing Record 10 of Set 13 | behbahan\n",
      "Processing Record 11 of Set 13 | kamenka\n",
      "Processing Record 12 of Set 13 | robore\n",
      "Processing Record 13 of Set 13 | comodoro rivadavia\n",
      "Processing Record 14 of Set 13 | fosses\n",
      "Processing Record 15 of Set 13 | yatsuo\n",
      "Processing Record 16 of Set 13 | puerto carreno\n",
      "Processing Record 17 of Set 13 | cabedelo\n",
      "Processing Record 18 of Set 13 | vilyuysk\n",
      "Processing Record 19 of Set 13 | port blair\n",
      "Processing Record 20 of Set 13 | tomatlan\n",
      "Processing Record 21 of Set 13 | belyy yar\n",
      "Processing Record 22 of Set 13 | sidi ali\n",
      "Processing Record 23 of Set 13 | paramonga\n",
      "Processing Record 24 of Set 13 | peniche\n",
      "Processing Record 25 of Set 13 | kathu\n",
      "Processing Record 26 of Set 13 | ketou\n",
      "Processing Record 27 of Set 13 | maumere\n",
      "Processing Record 28 of Set 13 | souillac\n",
      "Processing Record 29 of Set 13 | cururupu\n",
      "Completed\n"
     ]
    }
   ],
   "source": [
    "base_url = \"http://api.openweathermap.org/data/2.5/weather?units=imperial&appid=\" + weather_api_key\n",
    "\n",
    "# Counters\n",
    "city_counter = 1\n",
    "set_counter = 1\n",
    "\n",
    "# Create the lists to hold relative data\n",
    "cities_list= []\n",
    "cloudiness = []\n",
    "country = []\n",
    "date = []\n",
    "humidity = []\n",
    "lat = []\n",
    "lng = []\n",
    "max_temp = []\n",
    "wind_speed = []\n",
    "\n",
    "print(\"Started\")\n",
    "\n",
    "# Create a query url for each city in the cities list to get json response\n",
    "for i, city in enumerate(cities):\n",
    "    \n",
    "    # Group cities as sets of 50s\n",
    "    if (i % 50 == 0 and i >= 50):\n",
    "        set_counter += 1\n",
    "        city_counter = 1\n",
    "         \n",
    "    # Create API url for each city\n",
    "    query_url = base_url +\"&q=\" + city\n",
    "    \n",
    "    # Get json respose for each city\n",
    "    response = requests.get(query_url).json()\n",
    "    \n",
    "    # Print the results \n",
    "    print(f\"Processing Record {city_counter} of Set {set_counter} | {city}\")\n",
    "    \n",
    "    # Increase city counter\n",
    "    city_counter += 1\n",
    "    \n",
    "   # Add the values to the lists\n",
    "    try:       \n",
    "        cloudiness.append(response[\"clouds\"][\"all\"])\n",
    "        country.append(response[\"sys\"][\"country\"])\n",
    "        date.append(response[\"dt\"])\n",
    "        humidity.append(response[\"main\"][\"humidity\"])\n",
    "        lat.append(response[\"coord\"][\"lat\"])\n",
    "        lng.append(response[\"coord\"][\"lon\"])\n",
    "        max_temp.append(response[\"main\"][\"temp_max\"])\n",
    "        wind_speed.append(response[\"wind\"][\"speed\"])\n",
    "        cities_list.append(response[\"name\"])\n",
    "    except:\n",
    "        print(\"City not found. Skipping...\")\n",
    "        pass\n",
    "        \n",
    "print(\"Completed\")"
   ]
  },
  {
   "cell_type": "markdown",
   "metadata": {},
   "source": [
    "### Convert Raw Data to DataFrame\n",
    "* Export the city data into a .csv.\n",
    "* Display the DataFrame"
   ]
  },
  {
   "cell_type": "code",
   "execution_count": 6,
   "metadata": {},
   "outputs": [
    {
     "data": {
      "text/plain": [
       "City          572\n",
       "Cloudiness    572\n",
       "Country       572\n",
       "Date          572\n",
       "Humidity      572\n",
       "Lat           572\n",
       "Lng           572\n",
       "Max Temp      572\n",
       "Wind Speed    572\n",
       "dtype: int64"
      ]
     },
     "execution_count": 6,
     "metadata": {},
     "output_type": "execute_result"
    }
   ],
   "source": [
    "# Create a dictionary to keep data \n",
    "weather_data = {\n",
    "     \"City\": cities_list,\n",
    "     \"Cloudiness\": cloudiness,\n",
    "     \"Country\": country,\n",
    "     \"Date\": date,\n",
    "     \"Humidity\": humidity,\n",
    "     \"Lat\": lat,\n",
    "     \"Lng\": lng,\n",
    "     \"Max Temp\": max_temp,\n",
    "     \"Wind Speed\": wind_speed    \n",
    " }\n",
    "\n",
    "# Create the data frame and count variables for each columns\n",
    "weather_df = pd.DataFrame(weather_data)\n",
    "weather_df.count()"
   ]
  },
  {
   "cell_type": "code",
   "execution_count": 7,
   "metadata": {},
   "outputs": [
    {
     "data": {
      "text/html": [
       "<div>\n",
       "<style scoped>\n",
       "    .dataframe tbody tr th:only-of-type {\n",
       "        vertical-align: middle;\n",
       "    }\n",
       "\n",
       "    .dataframe tbody tr th {\n",
       "        vertical-align: top;\n",
       "    }\n",
       "\n",
       "    .dataframe thead th {\n",
       "        text-align: right;\n",
       "    }\n",
       "</style>\n",
       "<table border=\"1\" class=\"dataframe\">\n",
       "  <thead>\n",
       "    <tr style=\"text-align: right;\">\n",
       "      <th></th>\n",
       "      <th>City</th>\n",
       "      <th>Cloudiness</th>\n",
       "      <th>Country</th>\n",
       "      <th>Date</th>\n",
       "      <th>Humidity</th>\n",
       "      <th>Lat</th>\n",
       "      <th>Lng</th>\n",
       "      <th>Max Temp</th>\n",
       "      <th>Wind Speed</th>\n",
       "    </tr>\n",
       "  </thead>\n",
       "  <tbody>\n",
       "    <tr>\n",
       "      <th>0</th>\n",
       "      <td>Albany</td>\n",
       "      <td>28</td>\n",
       "      <td>US</td>\n",
       "      <td>1615988895</td>\n",
       "      <td>58</td>\n",
       "      <td>42.6001</td>\n",
       "      <td>-73.9662</td>\n",
       "      <td>34.00</td>\n",
       "      <td>2.48</td>\n",
       "    </tr>\n",
       "    <tr>\n",
       "      <th>1</th>\n",
       "      <td>Pevek</td>\n",
       "      <td>100</td>\n",
       "      <td>RU</td>\n",
       "      <td>1615988613</td>\n",
       "      <td>98</td>\n",
       "      <td>69.7008</td>\n",
       "      <td>170.3133</td>\n",
       "      <td>-20.97</td>\n",
       "      <td>4.32</td>\n",
       "    </tr>\n",
       "    <tr>\n",
       "      <th>2</th>\n",
       "      <td>Mumford</td>\n",
       "      <td>82</td>\n",
       "      <td>GH</td>\n",
       "      <td>1615988830</td>\n",
       "      <td>72</td>\n",
       "      <td>5.2618</td>\n",
       "      <td>-0.7590</td>\n",
       "      <td>84.47</td>\n",
       "      <td>16.60</td>\n",
       "    </tr>\n",
       "    <tr>\n",
       "      <th>3</th>\n",
       "      <td>Guaraniaçu</td>\n",
       "      <td>40</td>\n",
       "      <td>BR</td>\n",
       "      <td>1615988896</td>\n",
       "      <td>73</td>\n",
       "      <td>-25.1008</td>\n",
       "      <td>-52.8781</td>\n",
       "      <td>69.80</td>\n",
       "      <td>9.22</td>\n",
       "    </tr>\n",
       "    <tr>\n",
       "      <th>4</th>\n",
       "      <td>Saint George</td>\n",
       "      <td>1</td>\n",
       "      <td>US</td>\n",
       "      <td>1615988718</td>\n",
       "      <td>93</td>\n",
       "      <td>37.1041</td>\n",
       "      <td>-113.5841</td>\n",
       "      <td>37.00</td>\n",
       "      <td>1.01</td>\n",
       "    </tr>\n",
       "  </tbody>\n",
       "</table>\n",
       "</div>"
      ],
      "text/plain": [
       "           City  Cloudiness Country        Date  Humidity      Lat       Lng  \\\n",
       "0        Albany          28      US  1615988895        58  42.6001  -73.9662   \n",
       "1         Pevek         100      RU  1615988613        98  69.7008  170.3133   \n",
       "2       Mumford          82      GH  1615988830        72   5.2618   -0.7590   \n",
       "3    Guaraniaçu          40      BR  1615988896        73 -25.1008  -52.8781   \n",
       "4  Saint George           1      US  1615988718        93  37.1041 -113.5841   \n",
       "\n",
       "   Max Temp  Wind Speed  \n",
       "0     34.00        2.48  \n",
       "1    -20.97        4.32  \n",
       "2     84.47       16.60  \n",
       "3     69.80        9.22  \n",
       "4     37.00        1.01  "
      ]
     },
     "execution_count": 7,
     "metadata": {},
     "output_type": "execute_result"
    }
   ],
   "source": [
    "weather_df.head()"
   ]
  },
  {
   "cell_type": "code",
   "execution_count": 35,
   "metadata": {},
   "outputs": [],
   "source": [
    "weather_df.to_csv(output_data_file, index=False)"
   ]
  },
  {
   "cell_type": "markdown",
   "metadata": {},
   "source": [
    "## Inspect the data and remove the cities where the humidity > 100%.\n",
    "----\n",
    "Skip this step if there are no cities that have humidity > 100%. "
   ]
  },
  {
   "cell_type": "code",
   "execution_count": 67,
   "metadata": {},
   "outputs": [
    {
     "name": "stdout",
     "output_type": "stream",
     "text": [
      "             City  Cloudiness Country        Date  Humidity      Lat  \\\n",
      "0          Albany          28      US  1615988895        58  42.6001   \n",
      "1           Pevek         100      RU  1615988613        98  69.7008   \n",
      "2         Mumford          82      GH  1615988830        72   5.2618   \n",
      "3      Guaraniaçu          40      BR  1615988896        73 -25.1008   \n",
      "4    Saint George           1      US  1615988718        93  37.1041   \n",
      "..            ...         ...     ...         ...       ...      ...   \n",
      "567         Kathu          20      TH  1615989029        74   7.9178   \n",
      "568         Kétou          93      BJ  1615989030        46   7.3633   \n",
      "569       Maumere          81      ID  1615989030        80  -8.6199   \n",
      "570      Souillac          40      MU  1615989030        65 -20.5167   \n",
      "571      Cururupu         100      BR  1615989030        97  -1.8283   \n",
      "\n",
      "          Lng  Max Temp  Wind Speed  \n",
      "0    -73.9662     34.00        2.48  \n",
      "1    170.3133    -20.97        4.32  \n",
      "2     -0.7590     84.47       16.60  \n",
      "3    -52.8781     69.80        9.22  \n",
      "4   -113.5841     37.00        1.01  \n",
      "..        ...       ...         ...  \n",
      "567   98.3332     86.00        5.79  \n",
      "568    2.5998     93.61        7.61  \n",
      "569  122.2111     80.33        2.93  \n",
      "570   57.5167     82.40       10.36  \n",
      "571  -44.8683     75.00        3.80  \n",
      "\n",
      "[572 rows x 9 columns]\n",
      "Int64Index([], dtype='int64')\n"
     ]
    }
   ],
   "source": [
    "weather_df = pd. read_csv(\"../WeatherPy/cities.csv\")\n",
    "print(weather_df)\n",
    "index = weather_df. index\n",
    "condition = weather_df[\"Humidity\"] > 100\n",
    "cities_indices = index[weather_df[\"Humidity\"] > 100] \n",
    "cities_indices_list = cities_indices\n",
    "print(cities_indices_list)"
   ]
  },
  {
   "cell_type": "code",
   "execution_count": 68,
   "metadata": {},
   "outputs": [],
   "source": [
    "#  Get the indices of cities that have humidity over 100%.\n",
    "no data with cities having humidity over 100%."
   ]
  },
  {
   "cell_type": "code",
   "execution_count": null,
   "metadata": {},
   "outputs": [],
   "source": [
    "# Make a new DataFrame equal to the city data to drop all humidity outliers by index.\n",
    "# Passing \"inplace=False\" will make a copy of the city_data DataFrame, which we call \"clean_city_data\".\n"
   ]
  },
  {
   "cell_type": "code",
   "execution_count": null,
   "metadata": {},
   "outputs": [],
   "source": [
    "\n"
   ]
  },
  {
   "cell_type": "markdown",
   "metadata": {},
   "source": [
    "## Plotting the Data\n",
    "* Use proper labeling of the plots using plot titles (including date of analysis) and axes labels.\n",
    "* Save the plotted figures as .pngs."
   ]
  },
  {
   "cell_type": "markdown",
   "metadata": {},
   "source": [
    "## Latitude vs. Temperature Plot"
   ]
  },
  {
   "cell_type": "code",
   "execution_count": 43,
   "metadata": {
    "scrolled": true
   },
   "outputs": [
    {
     "data": {
      "image/png": "[encoded data removed]",
      "text/plain": [
       "<Figure size 432x288 with 1 Axes>"
      ]
     },
     "metadata": {
      "needs_background": "light"
     },
     "output_type": "display_data"
    }
   ],
   "source": [
    "plt.scatter(weather_df[\"Lat\"], weather_df[\"Max Temp\"], marker = \"o\", facecolor = \"green\", edgecolor=\"black\")\n",
    "plt.title(\"City Latitude vs. Max Temperature (%s)\" % time.strftime(\"%x\"))\n",
    "plt.xlabel(\"Latitude\")\n",
    "plt.ylabel(\"Max Temprature (F)\")\n",
    "plt.grid()\n",
    "plt.savefig(\"../WeatherPy/temperature.png\")\n",
    "plt.show()\n"
   ]
  },
  {
   "cell_type": "code",
   "execution_count": null,
   "metadata": {},
   "outputs": [],
   "source": [
    "Analysis:Looking at the latitude and maximum temprature plot we can say as cities get closer to the equator,\n",
    "         tempratures tend to get higher"
   ]
  },
  {
   "cell_type": "markdown",
   "metadata": {},
   "source": [
    "## Latitude vs. Humidity Plot"
   ]
  },
  {
   "cell_type": "code",
   "execution_count": 61,
   "metadata": {},
   "outputs": [
    {
     "data": {
      "image/png": "[encoded data removed]",
      "text/plain": [
       "<Figure size 432x288 with 1 Axes>"
      ]
     },
     "metadata": {
      "needs_background": "light"
     },
     "output_type": "display_data"
    }
   ],
   "source": [
    "plt.scatter(weather_df[\"Lat\"], weather_df[\"Humidity\"], marker = \"o\", facecolor = \"green\", edgecolor=\"black\")\n",
    "plt.title(\"City Latitude vs. Humidity (%s)\" % time.strftime(\"%x\"))\n",
    "plt.xlabel(\"Latitude\")\n",
    "plt.ylabel(\"Humidity\")\n",
    "plt.grid()\n",
    "plt.savefig(\"../WeatherPy/humidity.png\")\n",
    "plt.show()\n"
   ]
  },
  {
   "cell_type": "code",
   "execution_count": null,
   "metadata": {},
   "outputs": [],
   "source": [
    "Analysis: For humidity, the plot doesnt show any relation between latitude and humidity. \n",
    "          Humidity doesn get higher or lower as we get closer to the equator. \n",
    "          Different latitudes can have similar humidity rates, or similar latidues can have different humidity rates."
   ]
  },
  {
   "cell_type": "markdown",
   "metadata": {},
   "source": [
    "## Latitude vs. Cloudiness Plot"
   ]
  },
  {
   "cell_type": "code",
   "execution_count": 41,
   "metadata": {},
   "outputs": [
    {
     "data": {
      "image/png": "[encoded data removed]",
      "text/plain": [
       "<Figure size 432x288 with 1 Axes>"
      ]
     },
     "metadata": {
      "needs_background": "light"
     },
     "output_type": "display_data"
    }
   ],
   "source": [
    "plt.scatter(weather_df[\"Lat\"], weather_df[\"Cloudiness\"], marker = \"o\", facecolor = \"green\", edgecolor=\"black\")\n",
    "plt.xlabel(\"Latitude\")\n",
    "plt.ylabel(\"Cloudiness (%)\")\n",
    "plt.title(\"City Latitude vs Cloudiness (%s)\" % time.strftime(\"%x\"))\n",
    "plt.grid()\n",
    "plt.savefig(\"../WeatherPy/cloudliness.png\")\n",
    "plt.show()"
   ]
  },
  {
   "cell_type": "code",
   "execution_count": null,
   "metadata": {},
   "outputs": [],
   "source": [
    "Analysis: For cloudiness, again we cant point any relation between latitude and cloudiness as we get closer to the equator.\n",
    "          Cities that are closer to the equator dont show any trend like they have any similarity for cloudiness."
   ]
  },
  {
   "cell_type": "markdown",
   "metadata": {},
   "source": [
    "## Latitude vs. Wind Speed Plot"
   ]
  },
  {
   "cell_type": "code",
   "execution_count": 40,
   "metadata": {},
   "outputs": [
    {
     "data": {
      "image/png": "[encoded data removed]",
      "text/plain": [
       "<Figure size 432x288 with 1 Axes>"
      ]
     },
     "metadata": {
      "needs_background": "light"
     },
     "output_type": "display_data"
    }
   ],
   "source": [
    "plt.scatter(weather_df[\"Lat\"], weather_df[\"Wind Speed\"], marker = \"o\", facecolor = \"green\", edgecolor=\"black\")\n",
    "plt.xlabel(\"Latitude\")\n",
    "plt.ylabel(\"Speed (mph)\")\n",
    "plt.title(\"City Latitude vs Wind Speed (%s)\" % time.strftime(\"%x\"))\n",
    "plt.grid()\n",
    "plt.savefig(\"../WeatherPy/windspeed.png\")\n",
    "plt.show()"
   ]
  },
  {
   "cell_type": "code",
   "execution_count": null,
   "metadata": {},
   "outputs": [],
   "source": [
    "Analysis:For wind speed, the plot shows cities that have very diffirent latitudes can have similar wind speeds, and similar latitudes doesnt necessarily have the similar wind speeds.\n",
    "         So we can say latitude and wind speed doesnt create a trend."
   ]
  },
  {
   "cell_type": "markdown",
   "metadata": {},
   "source": [
    "## Linear Regression"
   ]
  },
  {
   "cell_type": "code",
   "execution_count": 51,
   "metadata": {},
   "outputs": [],
   "source": [
    "def linear_reg_plot(x_values,y_values):\n",
    "    (slope, intercept, rvalue, pvalue, stderr) = linregress(x_values, y_values)\n",
    "    regress_values = x_values * slope + intercept\n",
    "    line_eq = \"y = \" + str(round(slope,2)) + \"x + \" + str(round(intercept,2))\n",
    "    plt.scatter(x_values,y_values)\n",
    "    plt.plot(x_values,regress_values,\"r-\")\n",
    "    plt.annotate(line_eq,(x_values.median(),y_values.median()),fontsize=15,color=\"red\")\n",
    "    plt.xlabel(\"Latitude\")\n",
    "    print(f\"The r-squared is: {rvalue}\")\n",
    "    plt.show()"
   ]
  },
  {
   "cell_type": "code",
   "execution_count": 52,
   "metadata": {},
   "outputs": [],
   "source": [
    "Northern_hemisphere = weather_df.loc[weather_df[\"Lat\"]>0]\n",
    "Southern_hemisphere = weather_df.loc[weather_df[\"Lat\"]<0]"
   ]
  },
  {
   "cell_type": "markdown",
   "metadata": {},
   "source": [
    "####  Northern Hemisphere - Max Temp vs. Latitude Linear Regression"
   ]
  },
  {
   "cell_type": "code",
   "execution_count": 53,
   "metadata": {},
   "outputs": [
    {
     "name": "stdout",
     "output_type": "stream",
     "text": [
      "The r-squared is: -0.8768552068391039\n"
     ]
    },
    {
     "data": {
      "image/png": "[encoded data removed]",
      "text/plain": [
       "<Figure size 432x288 with 1 Axes>"
      ]
     },
     "metadata": {
      "needs_background": "light"
     },
     "output_type": "display_data"
    },
    {
     "name": "stdout",
     "output_type": "stream",
     "text": [
      "None\n"
     ]
    }
   ],
   "source": [
    "x_values = Northern_hemisphere[\"Lat\"]\n",
    "y_values = Northern_hemisphere[\"Max Temp\"]\n",
    "plt.ylabel(\"Max Temp (F)\")\n",
    "print(linear_reg_plot(x_values,y_values))"
   ]
  },
  {
   "cell_type": "code",
   "execution_count": null,
   "metadata": {},
   "outputs": [],
   "source": [
    "The Max Temperature vs. Latitude plot for cities in the northern hemisphere is shown above. \n",
    "The max temperature appears show a strong negative linear relationship with latitudes in the northern hemisphere, \n",
    "with an r-value of -0.87 for the linear best-fit regression line."
   ]
  },
  {
   "cell_type": "markdown",
   "metadata": {},
   "source": [
    "####  Southern Hemisphere - Max Temp vs. Latitude Linear Regression"
   ]
  },
  {
   "cell_type": "code",
   "execution_count": 54,
   "metadata": {},
   "outputs": [
    {
     "name": "stdout",
     "output_type": "stream",
     "text": [
      "The r-squared is: 0.7723103655727277\n"
     ]
    },
    {
     "data": {
      "image/png": "[encoded data removed]",
      "text/plain": [
       "<Figure size 432x288 with 1 Axes>"
      ]
     },
     "metadata": {
      "needs_background": "light"
     },
     "output_type": "display_data"
    },
    {
     "name": "stdout",
     "output_type": "stream",
     "text": [
      "None\n"
     ]
    }
   ],
   "source": [
    "x_values = Southern_hemisphere[\"Lat\"]\n",
    "y_values = Southern_hemisphere[\"Max Temp\"]\n",
    "plt.ylabel(\"Max Temp (F)\")\n",
    "print(linear_reg_plot(x_values,y_values))"
   ]
  },
  {
   "cell_type": "code",
   "execution_count": null,
   "metadata": {},
   "outputs": [],
   "source": [
    "The Max Temperature vs. Latitude plot for cities in the southern hemisphere is shown above. \n",
    "The max temperature appears show a strong positive linear relationship with latitudes in the southern hemisphere, \n",
    "with an r-value of 0.77 for the linear best-fit regression line."
   ]
  },
  {
   "cell_type": "markdown",
   "metadata": {},
   "source": [
    "####  Northern Hemisphere - Humidity (%) vs. Latitude Linear Regression"
   ]
  },
  {
   "cell_type": "code",
   "execution_count": 55,
   "metadata": {},
   "outputs": [
    {
     "name": "stdout",
     "output_type": "stream",
     "text": [
      "The r-squared is: 0.30506937710980997\n"
     ]
    },
    {
     "data": {
      "image/png": "[encoded data removed]",
      "text/plain": [
       "<Figure size 432x288 with 1 Axes>"
      ]
     },
     "metadata": {
      "needs_background": "light"
     },
     "output_type": "display_data"
    },
    {
     "name": "stdout",
     "output_type": "stream",
     "text": [
      "None\n"
     ]
    }
   ],
   "source": [
    "x_values = Northern_hemisphere[\"Lat\"]\n",
    "y_values = Northern_hemisphere[\"Humidity\"]\n",
    "plt.ylabel(\"Humidity (%)\")\n",
    "print(linear_reg_plot(x_values,y_values))\n"
   ]
  },
  {
   "cell_type": "code",
   "execution_count": null,
   "metadata": {},
   "outputs": [],
   "source": [
    "The Humidity vs. Latitude plot for cities in the northern hemisphere is shown above. \n",
    "The data seems to show no relationship between the humidity and latitude for the northern hemisphere."
   ]
  },
  {
   "cell_type": "markdown",
   "metadata": {},
   "source": [
    "####  Southern Hemisphere - Humidity (%) vs. Latitude Linear Regression"
   ]
  },
  {
   "cell_type": "code",
   "execution_count": 56,
   "metadata": {},
   "outputs": [
    {
     "name": "stdout",
     "output_type": "stream",
     "text": [
      "The r-squared is: 0.09089000468702331\n"
     ]
    },
    {
     "data": {
      "image/png": "[encoded data removed]",
      "text/plain": [
       "<Figure size 432x288 with 1 Axes>"
      ]
     },
     "metadata": {
      "needs_background": "light"
     },
     "output_type": "display_data"
    },
    {
     "name": "stdout",
     "output_type": "stream",
     "text": [
      "None\n"
     ]
    }
   ],
   "source": [
    "x_values = Southern_hemisphere[\"Lat\"]\n",
    "y_values = Southern_hemisphere[\"Humidity\"]\n",
    "plt.ylim(0, y_values.max()+100)\n",
    "plt.ylabel(\"Humidity (%)\")\n",
    "print(linear_reg_plot(x_values,y_values))"
   ]
  },
  {
   "cell_type": "code",
   "execution_count": null,
   "metadata": {},
   "outputs": [],
   "source": [
    "The Humidity vs. Latitude plot for cities in the southern hemisphere is shown above. \n",
    "The data seems to show no relationship between the humidity and latitude for the southern hemisphere.\n",
    "\n"
   ]
  },
  {
   "cell_type": "markdown",
   "metadata": {},
   "source": [
    "####  Northern Hemisphere - Cloudiness (%) vs. Latitude Linear Regression"
   ]
  },
  {
   "cell_type": "code",
   "execution_count": 57,
   "metadata": {},
   "outputs": [
    {
     "name": "stdout",
     "output_type": "stream",
     "text": [
      "The r-squared is: 0.16693033427359874\n"
     ]
    },
    {
     "data": {
      "image/png": "[encoded data removed]",
      "text/plain": [
       "<Figure size 432x288 with 1 Axes>"
      ]
     },
     "metadata": {
      "needs_background": "light"
     },
     "output_type": "display_data"
    },
    {
     "name": "stdout",
     "output_type": "stream",
     "text": [
      "None\n"
     ]
    }
   ],
   "source": [
    "x_values = Northern_hemisphere[\"Lat\"]\n",
    "y_values = Northern_hemisphere[\"Cloudiness\"]\n",
    "plt.ylabel(\"Cloudiness\")\n",
    "print(linear_reg_plot(x_values,y_values))"
   ]
  },
  {
   "cell_type": "code",
   "execution_count": null,
   "metadata": {},
   "outputs": [],
   "source": [
    "The Cloudiness vs. Latitude plot for cities in the northern hemisphere is shown above. \n",
    "The data seems to show no relationship between cloudiness and latitude for the northern hemisphere."
   ]
  },
  {
   "cell_type": "markdown",
   "metadata": {},
   "source": [
    "####  Southern Hemisphere - Cloudiness (%) vs. Latitude Linear Regression"
   ]
  },
  {
   "cell_type": "code",
   "execution_count": 58,
   "metadata": {},
   "outputs": [
    {
     "name": "stdout",
     "output_type": "stream",
     "text": [
      "The r-squared is: 0.3496020568286428\n"
     ]
    },
    {
     "data": {
      "image/png": "[encoded data removed]",
      "text/plain": [
       "<Figure size 432x288 with 1 Axes>"
      ]
     },
     "metadata": {
      "needs_background": "light"
     },
     "output_type": "display_data"
    },
    {
     "name": "stdout",
     "output_type": "stream",
     "text": [
      "None\n"
     ]
    }
   ],
   "source": [
    "x_values = Southern_hemisphere[\"Lat\"]\n",
    "y_values = Southern_hemisphere[\"Cloudiness\"]\n",
    "plt.ylabel(\"Cloudiness\")\n",
    "print(linear_reg_plot(x_values,y_values))"
   ]
  },
  {
   "cell_type": "code",
   "execution_count": null,
   "metadata": {},
   "outputs": [],
   "source": [
    "The Cloudiness vs. Latitude plot for cities in the southern hemisphere is shown above. \n",
    "The data seems to show no relationship between cloudiness and latitude for the southern hemisphere.\n",
    "\n"
   ]
  },
  {
   "cell_type": "markdown",
   "metadata": {},
   "source": [
    "####  Northern Hemisphere - Wind Speed (mph) vs. Latitude Linear Regression"
   ]
  },
  {
   "cell_type": "code",
   "execution_count": 59,
   "metadata": {},
   "outputs": [
    {
     "name": "stdout",
     "output_type": "stream",
     "text": [
      "The r-squared is: 0.07113402334003938\n"
     ]
    },
    {
     "data": {
      "image/png": "[encoded data removed]",
      "text/plain": [
       "<Figure size 432x288 with 1 Axes>"
      ]
     },
     "metadata": {
      "needs_background": "light"
     },
     "output_type": "display_data"
    },
    {
     "name": "stdout",
     "output_type": "stream",
     "text": [
      "None\n"
     ]
    }
   ],
   "source": [
    "x_values = Northern_hemisphere[\"Lat\"]\n",
    "y_values = Northern_hemisphere[\"Wind Speed\"]\n",
    "plt.ylabel(\"Wind Speed\")\n",
    "print(linear_reg_plot(x_values,y_values))"
   ]
  },
  {
   "cell_type": "code",
   "execution_count": null,
   "metadata": {},
   "outputs": [],
   "source": [
    "The Wind Speed vs. Latitude plot for cities in the northern hemisphere is shown above. \n",
    "The data seems to show no relationship between wind speed and latitude for the northern hemisphere."
   ]
  },
  {
   "cell_type": "markdown",
   "metadata": {},
   "source": [
    "####  Southern Hemisphere - Wind Speed (mph) vs. Latitude Linear Regression"
   ]
  },
  {
   "cell_type": "code",
   "execution_count": 60,
   "metadata": {},
   "outputs": [
    {
     "name": "stdout",
     "output_type": "stream",
     "text": [
      "The r-squared is: -0.34026691027673484\n"
     ]
    },
    {
     "data": {
      "image/png": "[encoded data removed]",
      "text/plain": [
       "<Figure size 432x288 with 1 Axes>"
      ]
     },
     "metadata": {
      "needs_background": "light"
     },
     "output_type": "display_data"
    },
    {
     "name": "stdout",
     "output_type": "stream",
     "text": [
      "None\n"
     ]
    }
   ],
   "source": [
    "x_values = Southern_hemisphere[\"Lat\"]\n",
    "y_values = Southern_hemisphere[\"Wind Speed\"]\n",
    "plt.ylabel(\"Wind Speed\")\n",
    "print(linear_reg_plot(x_values,y_values))"
   ]
  },
  {
   "cell_type": "code",
   "execution_count": null,
   "metadata": {},
   "outputs": [],
   "source": [
    "The Wind Speed vs. Latitude plot for cities in the southern hemisphere is shown above. \n",
    "The data seems to show no relationship between wind speed and latitude for the southern hemisphere."
   ]
  },
  {
   "cell_type": "code",
   "execution_count": null,
   "metadata": {},
   "outputs": [],
   "source": []
  }
 ],
 "metadata": {
  "anaconda-cloud": {},
  "kernel_info": {
   "name": "python3"
  },
  "kernelspec": {
   "display_name": "Python 3",
   "language": "python",
   "name": "python3"
  },
  "language_info": {
   "codemirror_mode": {
    "name": "ipython",
    "version": 3
   },
   "file_extension": ".py",
   "mimetype": "text/x-python",
   "name": "python",
   "nbconvert_exporter": "python",
   "pygments_lexer": "ipython3",
   "version": "3.8.5"
  },
  "latex_envs": {
   "LaTeX_envs_menu_present": true,
   "autoclose": false,
   "autocomplete": true,
   "bibliofile": "biblio.bib",
   "cite_by": "apalike",
   "current_citInitial": 1,
   "eqLabelWithNumbers": true,
   "eqNumInitial": 1,
   "hotkeys": {
    "equation": "Ctrl-E",
    "itemize": "Ctrl-I"
   },
   "labels_anchors": false,
   "latex_user_defs": false,
   "report_style_numbering": false,
   "user_envs_cfg": false
  },
  "nteract": {
   "version": "0.12.3"
  }
 },
 "nbformat": 4,
 "nbformat_minor": 2
}
