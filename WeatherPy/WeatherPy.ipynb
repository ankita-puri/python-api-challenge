{
 "cells": [
  {
   "cell_type": "markdown",
   "metadata": {},
   "source": [
    "# WeatherPy\n",
    "----\n",
    "\n",
    "#### Note\n",
    "* Instructions have been included for each segment. You do not have to follow them exactly, but they are included to help you think through the steps."
   ]
  },
  {
   "cell_type": "code",
   "execution_count": 1,
   "metadata": {},
   "outputs": [
    {
     "name": "stdout",
     "output_type": "stream",
     "text": [
      "Requirement already satisfied: citipy in /opt/anaconda3/lib/python3.8/site-packages (0.0.5)\n",
      "Requirement already satisfied: kdtree>=0.12 in /opt/anaconda3/lib/python3.8/site-packages (from citipy) (0.16)\n"
     ]
    }
   ],
   "source": [
    "!pip install citipy"
   ]
  },
  {
   "cell_type": "code",
   "execution_count": 2,
   "metadata": {
    "scrolled": true
   },
   "outputs": [],
   "source": [
    "import matplotlib.pyplot as plt\n",
    "import pandas as pd\n",
    "import numpy as np\n",
    "import requests\n",
    "import time\n",
    "from pprint import pprint\n",
    "import datetime\n",
    "import matplotlib.dates as mdate\n",
    "from scipy.stats import linregress\n",
    "\n",
    "# Import API key\n",
    "from config import weather_api_key\n",
    "\n",
    "# Incorporated citipy to determine city based on latitude and longitude\n",
    "from citipy import citipy\n",
    "\n",
    "# Output File (CSV)\n",
    "output_data_file = \"../WeatherPy/cities.csv\"\n",
    "\n",
    "# Range of latitudes and longitudes\n",
    "lat_range = (-90, 90)\n",
    "lng_range = (-180, 180)"
   ]
  },
  {
   "cell_type": "code",
   "execution_count": null,
   "metadata": {},
   "outputs": [],
   "source": []
  },
  {
   "cell_type": "markdown",
   "metadata": {},
   "source": [
    "## Generate Cities List"
   ]
  },
  {
   "cell_type": "code",
   "execution_count": 3,
   "metadata": {},
   "outputs": [
    {
     "data": {
      "text/plain": [
       "637"
      ]
     },
     "execution_count": 3,
     "metadata": {},
     "output_type": "execute_result"
    }
   ],
   "source": [
    "lat_lngs = []\n",
    "cities = []\n",
    "\n",
    "# Create a set of random lat and lng combinations\n",
    "lats = np.random.uniform(low=-90.000, high=90.000, size=1500)\n",
    "lngs = np.random.uniform(low=-180.000, high=180.000, size=1500)\n",
    "lat_lngs = zip(lats, lngs)\n",
    "\n",
    "# Identify nearest city for each lat, lng combination\n",
    "for lat_lng in lat_lngs:\n",
    "    city = citipy.nearest_city(lat_lng[0], lat_lng[1]).city_name\n",
    "    \n",
    "    # If the city is unique, then add it to a our cities list\n",
    "    if city not in cities:\n",
    "        cities.append(city)\n",
    "\n",
    "# Print the city count to confirm sufficient count\n",
    "len(cities)"
   ]
  },
  {
   "cell_type": "markdown",
   "metadata": {},
   "source": [
    "### Perform API Calls\n",
    "* Perform a weather check on each city using a series of successive API calls.\n",
    "* Include a print log of each city as it'sbeing processed (with the city number and city name).\n"
   ]
  },
  {
   "cell_type": "code",
   "execution_count": 4,
   "metadata": {
    "scrolled": true,
    "tags": [
     "outputPrepend"
    ]
   },
   "outputs": [
    {
     "name": "stdout",
     "output_type": "stream",
     "text": [
      "Started\n",
      "Processing Record 1 of Set 1 | dikson\n",
      "Processing Record 2 of Set 1 | yellowknife\n",
      "Processing Record 3 of Set 1 | lichinga\n",
      "Processing Record 4 of Set 1 | sao joao da barra\n",
      "Processing Record 5 of Set 1 | dalnerechensk\n",
      "Processing Record 6 of Set 1 | taolanaro\n",
      "City not found. Skipping...\n",
      "Processing Record 7 of Set 1 | nanga eboko\n",
      "Processing Record 8 of Set 1 | vaini\n",
      "Processing Record 9 of Set 1 | tuktoyaktuk\n",
      "Processing Record 10 of Set 1 | mareeba\n",
      "Processing Record 11 of Set 1 | mataura\n",
      "Processing Record 12 of Set 1 | albany\n",
      "Processing Record 13 of Set 1 | oxbow\n",
      "Processing Record 14 of Set 1 | amderma\n",
      "City not found. Skipping...\n",
      "Processing Record 15 of Set 1 | todos santos\n",
      "Processing Record 16 of Set 1 | ifanadiana\n",
      "Processing Record 17 of Set 1 | bredasdorp\n",
      "Processing Record 18 of Set 1 | yantal\n",
      "Processing Record 19 of Set 1 | kadnikov\n",
      "Processing Record 20 of Set 1 | pisco\n",
      "Processing Record 21 of Set 1 | cape town\n",
      "Processing Record 22 of Set 1 | illoqqortoormiut\n",
      "City not found. Skipping...\n",
      "Processing Record 23 of Set 1 | ponta do sol\n",
      "Processing Record 24 of Set 1 | mrirt\n",
      "City not found. Skipping...\n",
      "Processing Record 25 of Set 1 | lompoc\n",
      "Processing Record 26 of Set 1 | rikitea\n",
      "Processing Record 27 of Set 1 | silivri\n",
      "Processing Record 28 of Set 1 | hingoli\n",
      "Processing Record 29 of Set 1 | kruisfontein\n",
      "Processing Record 30 of Set 1 | vaitupu\n",
      "City not found. Skipping...\n",
      "Processing Record 31 of Set 1 | verkhnevilyuysk\n",
      "Processing Record 32 of Set 1 | acarau\n",
      "Processing Record 33 of Set 1 | bethel\n",
      "Processing Record 34 of Set 1 | ribeira brava\n",
      "Processing Record 35 of Set 1 | kapaa\n",
      "Processing Record 36 of Set 1 | mar del plata\n",
      "Processing Record 37 of Set 1 | butaritari\n",
      "Processing Record 38 of Set 1 | marzuq\n",
      "Processing Record 39 of Set 1 | sotouboua\n",
      "Processing Record 40 of Set 1 | natal\n",
      "Processing Record 41 of Set 1 | margate\n",
      "Processing Record 42 of Set 1 | lorengau\n",
      "Processing Record 43 of Set 1 | souillac\n",
      "Processing Record 44 of Set 1 | nizhneyansk\n",
      "City not found. Skipping...\n",
      "Processing Record 45 of Set 1 | chuy\n",
      "Processing Record 46 of Set 1 | busselton\n",
      "Processing Record 47 of Set 1 | qaanaaq\n",
      "Processing Record 48 of Set 1 | beaufort\n",
      "Processing Record 49 of Set 1 | nouadhibou\n",
      "Processing Record 50 of Set 1 | aklavik\n",
      "Processing Record 1 of Set 2 | watsa\n",
      "Processing Record 2 of Set 2 | carnarvon\n",
      "Processing Record 3 of Set 2 | bafq\n",
      "Processing Record 4 of Set 2 | atuona\n",
      "Processing Record 5 of Set 2 | kungurtug\n",
      "Processing Record 6 of Set 2 | isangel\n",
      "Processing Record 7 of Set 2 | cleveland\n",
      "Processing Record 8 of Set 2 | kutum\n",
      "Processing Record 9 of Set 2 | mizpe ramon\n",
      "City not found. Skipping...\n",
      "Processing Record 10 of Set 2 | coquimbo\n",
      "Processing Record 11 of Set 2 | banda aceh\n",
      "Processing Record 12 of Set 2 | punta arenas\n",
      "Processing Record 13 of Set 2 | dingle\n",
      "Processing Record 14 of Set 2 | nagamangala\n",
      "Processing Record 15 of Set 2 | rungata\n",
      "City not found. Skipping...\n",
      "Processing Record 16 of Set 2 | khatanga\n",
      "Processing Record 17 of Set 2 | alcanena\n",
      "Processing Record 18 of Set 2 | mount isa\n",
      "Processing Record 19 of Set 2 | togur\n",
      "Processing Record 20 of Set 2 | puerto ayora\n",
      "Processing Record 21 of Set 2 | vila franca do campo\n",
      "Processing Record 22 of Set 2 | cordoba\n",
      "Processing Record 23 of Set 2 | castro\n",
      "Processing Record 24 of Set 2 | lagoa\n",
      "Processing Record 25 of Set 2 | caconda\n",
      "Processing Record 26 of Set 2 | san cristobal\n",
      "Processing Record 27 of Set 2 | bluff\n",
      "Processing Record 28 of Set 2 | isla mujeres\n",
      "Processing Record 29 of Set 2 | puerto del rosario\n",
      "Processing Record 30 of Set 2 | tiksi\n",
      "Processing Record 31 of Set 2 | sovetskaya\n",
      "Processing Record 32 of Set 2 | novyy svit\n",
      "Processing Record 33 of Set 2 | bagdarin\n",
      "Processing Record 34 of Set 2 | vanino\n",
      "Processing Record 35 of Set 2 | arraial do cabo\n",
      "Processing Record 36 of Set 2 | port elizabeth\n",
      "Processing Record 37 of Set 2 | economy\n",
      "Processing Record 38 of Set 2 | ilulissat\n",
      "Processing Record 39 of Set 2 | hobart\n",
      "Processing Record 40 of Set 2 | esperance\n",
      "Processing Record 41 of Set 2 | caravelas\n",
      "Processing Record 42 of Set 2 | faanui\n",
      "Processing Record 43 of Set 2 | korla\n",
      "Processing Record 44 of Set 2 | mmabatho\n",
      "Processing Record 45 of Set 2 | tsihombe\n",
      "City not found. Skipping...\n",
      "Processing Record 46 of Set 2 | victoria\n",
      "Processing Record 47 of Set 2 | rawson\n",
      "Processing Record 48 of Set 2 | new norfolk\n",
      "Processing Record 49 of Set 2 | saint-philippe\n",
      "Processing Record 50 of Set 2 | kodiak\n",
      "Processing Record 1 of Set 3 | hervey bay\n",
      "Processing Record 2 of Set 3 | chokurdakh\n",
      "Processing Record 3 of Set 3 | uyemskiy\n",
      "Processing Record 4 of Set 3 | beyneu\n",
      "Processing Record 5 of Set 3 | barentsburg\n",
      "City not found. Skipping...\n",
      "Processing Record 6 of Set 3 | panaba\n",
      "Processing Record 7 of Set 3 | tenenkou\n",
      "Processing Record 8 of Set 3 | doda\n",
      "Processing Record 9 of Set 3 | pierre\n",
      "Processing Record 10 of Set 3 | carutapera\n",
      "Processing Record 11 of Set 3 | jacareacanga\n",
      "Processing Record 12 of Set 3 | husavik\n",
      "Processing Record 13 of Set 3 | pamekasan\n",
      "Processing Record 14 of Set 3 | norman wells\n",
      "Processing Record 15 of Set 3 | kavieng\n",
      "Processing Record 16 of Set 3 | ayan\n",
      "Processing Record 17 of Set 3 | micomeseng\n",
      "Processing Record 18 of Set 3 | bababe\n",
      "City not found. Skipping...\n",
      "Processing Record 19 of Set 3 | ushuaia\n",
      "Processing Record 20 of Set 3 | hovd\n",
      "Processing Record 21 of Set 3 | georgetown\n",
      "Processing Record 22 of Set 3 | longyearbyen\n",
      "Processing Record 23 of Set 3 | belushya guba\n",
      "City not found. Skipping...\n",
      "Processing Record 24 of Set 3 | saskylakh\n",
      "Processing Record 25 of Set 3 | coihaique\n",
      "Processing Record 26 of Set 3 | tandil\n",
      "Processing Record 27 of Set 3 | burnie\n",
      "Processing Record 28 of Set 3 | barrow\n",
      "Processing Record 29 of Set 3 | nome\n",
      "Processing Record 30 of Set 3 | aljezur\n",
      "Processing Record 31 of Set 3 | grand river south east\n",
      "City not found. Skipping...\n",
      "Processing Record 32 of Set 3 | salinopolis\n",
      "Processing Record 33 of Set 3 | fortuna\n",
      "Processing Record 34 of Set 3 | hermanus\n",
      "Processing Record 35 of Set 3 | narsaq\n",
      "Processing Record 36 of Set 3 | grand-lahou\n",
      "Processing Record 37 of Set 3 | palmas\n",
      "Processing Record 38 of Set 3 | bur gabo\n",
      "City not found. Skipping...\n",
      "Processing Record 39 of Set 3 | uwayl\n",
      "City not found. Skipping...\n",
      "Processing Record 40 of Set 3 | prachuap khiri khan\n",
      "Processing Record 41 of Set 3 | ahipara\n",
      "Processing Record 42 of Set 3 | salalah\n",
      "Processing Record 43 of Set 3 | avarua\n",
      "Processing Record 44 of Set 3 | shediac\n",
      "Processing Record 45 of Set 3 | port alfred\n",
      "Processing Record 46 of Set 3 | xai-xai\n",
      "Processing Record 47 of Set 3 | aborlan\n",
      "Processing Record 48 of Set 3 | arlit\n",
      "Processing Record 49 of Set 3 | ribeira grande\n",
      "Processing Record 50 of Set 3 | grand gaube\n",
      "Processing Record 1 of Set 4 | guerrero negro\n",
      "Processing Record 2 of Set 4 | airai\n",
      "Processing Record 3 of Set 4 | touros\n",
      "Processing Record 4 of Set 4 | yeniseysk\n",
      "Processing Record 5 of Set 4 | flin flon\n",
      "Processing Record 6 of Set 4 | halifax\n",
      "Processing Record 7 of Set 4 | seoni\n",
      "Processing Record 8 of Set 4 | clyde river\n",
      "Processing Record 9 of Set 4 | asau\n",
      "Processing Record 10 of Set 4 | hithadhoo\n",
      "Processing Record 11 of Set 4 | yellandu\n",
      "Processing Record 12 of Set 4 | grass valley\n",
      "Processing Record 13 of Set 4 | pevek\n",
      "Processing Record 14 of Set 4 | hilo\n",
      "Processing Record 15 of Set 4 | porto murtinho\n",
      "Processing Record 16 of Set 4 | omsukchan\n",
      "Processing Record 17 of Set 4 | doha\n",
      "Processing Record 18 of Set 4 | qunduz\n",
      "Processing Record 19 of Set 4 | lahij\n",
      "Processing Record 20 of Set 4 | tasiilaq\n",
      "Processing Record 21 of Set 4 | okha\n",
      "Processing Record 22 of Set 4 | tignere\n",
      "Processing Record 23 of Set 4 | severo-kurilsk\n",
      "Processing Record 24 of Set 4 | port hardy\n",
      "Processing Record 25 of Set 4 | visby\n",
      "Processing Record 26 of Set 4 | viedma\n",
      "Processing Record 27 of Set 4 | east london\n",
      "Processing Record 28 of Set 4 | tel aviv-yafo\n",
      "Processing Record 29 of Set 4 | klaksvik\n",
      "Processing Record 30 of Set 4 | torbay\n",
      "Processing Record 31 of Set 4 | andenes\n",
      "Processing Record 32 of Set 4 | leningradskiy\n",
      "Processing Record 33 of Set 4 | cairns\n",
      "Processing Record 34 of Set 4 | festus\n",
      "Processing Record 35 of Set 4 | goure\n",
      "Processing Record 36 of Set 4 | bengkulu\n",
      "Processing Record 37 of Set 4 | columbus\n",
      "Processing Record 38 of Set 4 | farafangana\n",
      "Processing Record 39 of Set 4 | marawi\n",
      "Processing Record 40 of Set 4 | gambo\n"
     ]
    },
    {
     "name": "stdout",
     "output_type": "stream",
     "text": [
      "Processing Record 41 of Set 4 | prieska\n",
      "Processing Record 42 of Set 4 | clarence town\n",
      "Processing Record 43 of Set 4 | matara\n",
      "Processing Record 44 of Set 4 | bambous virieux\n",
      "Processing Record 45 of Set 4 | ngukurr\n",
      "City not found. Skipping...\n",
      "Processing Record 46 of Set 4 | sentyabrskiy\n",
      "City not found. Skipping...\n",
      "Processing Record 47 of Set 4 | cidreira\n",
      "Processing Record 48 of Set 4 | sungaipenuh\n",
      "Processing Record 49 of Set 4 | jamestown\n",
      "Processing Record 50 of Set 4 | inta\n",
      "Processing Record 1 of Set 5 | mayya\n",
      "Processing Record 2 of Set 5 | yeppoon\n",
      "Processing Record 3 of Set 5 | ciudad del maiz\n",
      "Processing Record 4 of Set 5 | labutta\n",
      "City not found. Skipping...\n",
      "Processing Record 5 of Set 5 | kenai\n",
      "Processing Record 6 of Set 5 | uray\n",
      "Processing Record 7 of Set 5 | kayerkan\n",
      "Processing Record 8 of Set 5 | eydhafushi\n",
      "Processing Record 9 of Set 5 | muzhi\n",
      "Processing Record 10 of Set 5 | seoul\n",
      "Processing Record 11 of Set 5 | zhigansk\n",
      "Processing Record 12 of Set 5 | rosarito\n",
      "Processing Record 13 of Set 5 | bulgan\n",
      "Processing Record 14 of Set 5 | haines junction\n",
      "Processing Record 15 of Set 5 | havoysund\n",
      "Processing Record 16 of Set 5 | lebu\n",
      "Processing Record 17 of Set 5 | toliary\n",
      "City not found. Skipping...\n",
      "Processing Record 18 of Set 5 | christchurch\n",
      "Processing Record 19 of Set 5 | pemangkat\n",
      "Processing Record 20 of Set 5 | cayenne\n",
      "Processing Record 21 of Set 5 | murwillumbah\n",
      "Processing Record 22 of Set 5 | miri\n",
      "Processing Record 23 of Set 5 | skalistyy\n",
      "City not found. Skipping...\n",
      "Processing Record 24 of Set 5 | ancud\n",
      "Processing Record 25 of Set 5 | aksu\n",
      "Processing Record 26 of Set 5 | requena\n",
      "Processing Record 27 of Set 5 | ilebo\n",
      "Processing Record 28 of Set 5 | sioux lookout\n",
      "Processing Record 29 of Set 5 | martil\n",
      "Processing Record 30 of Set 5 | roma\n",
      "Processing Record 31 of Set 5 | libertador general san martin\n",
      "Processing Record 32 of Set 5 | timizart\n",
      "Processing Record 33 of Set 5 | petropavlovsk-kamchatskiy\n",
      "Processing Record 34 of Set 5 | umzimvubu\n",
      "City not found. Skipping...\n",
      "Processing Record 35 of Set 5 | adeje\n",
      "Processing Record 36 of Set 5 | bacuit\n",
      "City not found. Skipping...\n",
      "Processing Record 37 of Set 5 | manaure\n",
      "Processing Record 38 of Set 5 | sao filipe\n",
      "Processing Record 39 of Set 5 | brae\n",
      "Processing Record 40 of Set 5 | guasdualito\n",
      "Processing Record 41 of Set 5 | solnechnyy\n",
      "Processing Record 42 of Set 5 | batticaloa\n",
      "Processing Record 43 of Set 5 | luderitz\n",
      "Processing Record 44 of Set 5 | quatre cocos\n",
      "Processing Record 45 of Set 5 | khonuu\n",
      "City not found. Skipping...\n",
      "Processing Record 46 of Set 5 | nikolskoye\n",
      "Processing Record 47 of Set 5 | cedral\n",
      "Processing Record 48 of Set 5 | karratha\n",
      "Processing Record 49 of Set 5 | codrington\n",
      "Processing Record 50 of Set 5 | dolbeau\n",
      "City not found. Skipping...\n",
      "Processing Record 1 of Set 6 | berlevag\n",
      "Processing Record 2 of Set 6 | altagracia de orituco\n",
      "Processing Record 3 of Set 6 | rio gallegos\n",
      "Processing Record 4 of Set 6 | katsuura\n",
      "Processing Record 5 of Set 6 | bathsheba\n",
      "Processing Record 6 of Set 6 | roebourne\n",
      "Processing Record 7 of Set 6 | chake chake\n",
      "Processing Record 8 of Set 6 | ruatoria\n",
      "City not found. Skipping...\n",
      "Processing Record 9 of Set 6 | maneadero\n",
      "Processing Record 10 of Set 6 | alberton\n",
      "Processing Record 11 of Set 6 | shahdadkot\n",
      "Processing Record 12 of Set 6 | mahebourg\n",
      "Processing Record 13 of Set 6 | male\n",
      "Processing Record 14 of Set 6 | sobolevo\n",
      "Processing Record 15 of Set 6 | talcahuano\n",
      "Processing Record 16 of Set 6 | half moon bay\n",
      "Processing Record 17 of Set 6 | vao\n",
      "Processing Record 18 of Set 6 | tabiauea\n",
      "City not found. Skipping...\n",
      "Processing Record 19 of Set 6 | gomel\n",
      "Processing Record 20 of Set 6 | portland\n",
      "Processing Record 21 of Set 6 | lata\n",
      "Processing Record 22 of Set 6 | sao domingos\n",
      "Processing Record 23 of Set 6 | billings\n",
      "Processing Record 24 of Set 6 | provideniya\n",
      "Processing Record 25 of Set 6 | bodden town\n",
      "Processing Record 26 of Set 6 | kidal\n",
      "Processing Record 27 of Set 6 | nemuro\n",
      "Processing Record 28 of Set 6 | emerald\n",
      "Processing Record 29 of Set 6 | mvuma\n",
      "Processing Record 30 of Set 6 | gitarama\n",
      "Processing Record 31 of Set 6 | gasa\n",
      "Processing Record 32 of Set 6 | durango\n",
      "Processing Record 33 of Set 6 | thompson\n",
      "Processing Record 34 of Set 6 | verkhnetulomskiy\n",
      "Processing Record 35 of Set 6 | hasaki\n",
      "Processing Record 36 of Set 6 | araouane\n",
      "Processing Record 37 of Set 6 | samusu\n",
      "City not found. Skipping...\n",
      "Processing Record 38 of Set 6 | danane\n",
      "Processing Record 39 of Set 6 | biak\n",
      "Processing Record 40 of Set 6 | saint george\n",
      "Processing Record 41 of Set 6 | labuhan\n",
      "Processing Record 42 of Set 6 | el balyana\n",
      "City not found. Skipping...\n",
      "Processing Record 43 of Set 6 | falam\n",
      "Processing Record 44 of Set 6 | castelletto sopra ticino\n",
      "Processing Record 45 of Set 6 | yanaul\n",
      "Processing Record 46 of Set 6 | bubaque\n",
      "Processing Record 47 of Set 6 | danjiangkou\n",
      "Processing Record 48 of Set 6 | smithers\n",
      "Processing Record 49 of Set 6 | concordia\n",
      "Processing Record 50 of Set 6 | mogapi\n",
      "Processing Record 1 of Set 7 | sitka\n",
      "Processing Record 2 of Set 7 | russell\n",
      "Processing Record 3 of Set 7 | lazaro cardenas\n",
      "Processing Record 4 of Set 7 | solovetskiy\n",
      "City not found. Skipping...\n",
      "Processing Record 5 of Set 7 | sal rei\n",
      "Processing Record 6 of Set 7 | yumen\n",
      "Processing Record 7 of Set 7 | puri\n",
      "Processing Record 8 of Set 7 | ozark\n",
      "Processing Record 9 of Set 7 | rockhampton\n",
      "Processing Record 10 of Set 7 | atasu\n",
      "Processing Record 11 of Set 7 | guane\n",
      "Processing Record 12 of Set 7 | fillan\n",
      "Processing Record 13 of Set 7 | saint-francois\n",
      "Processing Record 14 of Set 7 | livingston\n",
      "Processing Record 15 of Set 7 | vestmannaeyjar\n",
      "Processing Record 16 of Set 7 | vostok\n",
      "Processing Record 17 of Set 7 | nanortalik\n",
      "Processing Record 18 of Set 7 | san quintin\n",
      "Processing Record 19 of Set 7 | vitre\n",
      "Processing Record 20 of Set 7 | batesville\n",
      "Processing Record 21 of Set 7 | shimoda\n",
      "Processing Record 22 of Set 7 | roald\n",
      "Processing Record 23 of Set 7 | torres\n",
      "Processing Record 24 of Set 7 | luanda\n",
      "Processing Record 25 of Set 7 | palabuhanratu\n",
      "City not found. Skipping...\n",
      "Processing Record 26 of Set 7 | castelbuono\n",
      "Processing Record 27 of Set 7 | udankudi\n",
      "Processing Record 28 of Set 7 | gizo\n",
      "Processing Record 29 of Set 7 | japura\n",
      "Processing Record 30 of Set 7 | coslada\n",
      "Processing Record 31 of Set 7 | pokhara\n",
      "Processing Record 32 of Set 7 | geraldton\n",
      "Processing Record 33 of Set 7 | elat\n",
      "Processing Record 34 of Set 7 | novo aripuana\n",
      "Processing Record 35 of Set 7 | prince rupert\n",
      "Processing Record 36 of Set 7 | ojinaga\n",
      "Processing Record 37 of Set 7 | ulladulla\n",
      "Processing Record 38 of Set 7 | mana\n",
      "Processing Record 39 of Set 7 | upernavik\n",
      "Processing Record 40 of Set 7 | nelson bay\n",
      "Processing Record 41 of Set 7 | maracacume\n",
      "Processing Record 42 of Set 7 | marsabit\n",
      "Processing Record 43 of Set 7 | attawapiskat\n",
      "City not found. Skipping...\n",
      "Processing Record 44 of Set 7 | trairi\n",
      "Processing Record 45 of Set 7 | malakal\n",
      "Processing Record 46 of Set 7 | vila velha\n",
      "Processing Record 47 of Set 7 | boralday\n",
      "Processing Record 48 of Set 7 | paamiut\n",
      "Processing Record 49 of Set 7 | aleksandrovka\n",
      "Processing Record 50 of Set 7 | kiunga\n",
      "Processing Record 1 of Set 8 | vallenar\n",
      "Processing Record 2 of Set 8 | sakakah\n",
      "Processing Record 3 of Set 8 | tsiroanomandidy\n",
      "Processing Record 4 of Set 8 | zonguldak\n",
      "Processing Record 5 of Set 8 | beringovskiy\n",
      "Processing Record 6 of Set 8 | marcona\n",
      "City not found. Skipping...\n",
      "Processing Record 7 of Set 8 | mys shmidta\n",
      "City not found. Skipping...\n",
      "Processing Record 8 of Set 8 | boddam\n",
      "Processing Record 9 of Set 8 | fernandina beach\n",
      "Processing Record 10 of Set 8 | yanan\n",
      "City not found. Skipping...\n",
      "Processing Record 11 of Set 8 | la asuncion\n",
      "Processing Record 12 of Set 8 | yeletskiy\n",
      "City not found. Skipping...\n",
      "Processing Record 13 of Set 8 | wajid\n",
      "Processing Record 14 of Set 8 | gravdal\n",
      "Processing Record 15 of Set 8 | lamu\n",
      "Processing Record 16 of Set 8 | tumannyy\n",
      "City not found. Skipping...\n",
      "Processing Record 17 of Set 8 | kajaani\n",
      "Processing Record 18 of Set 8 | arica\n",
      "Processing Record 19 of Set 8 | kahului\n",
      "Processing Record 20 of Set 8 | ixtapa\n",
      "Processing Record 21 of Set 8 | sarangani\n",
      "Processing Record 22 of Set 8 | ola\n",
      "Processing Record 23 of Set 8 | srednekolymsk\n",
      "Processing Record 24 of Set 8 | cabo san lucas\n",
      "Processing Record 25 of Set 8 | birao\n"
     ]
    },
    {
     "name": "stdout",
     "output_type": "stream",
     "text": [
      "Processing Record 26 of Set 8 | saldanha\n",
      "Processing Record 27 of Set 8 | batouri\n",
      "Processing Record 28 of Set 8 | san patricio\n",
      "Processing Record 29 of Set 8 | sheregesh\n",
      "Processing Record 30 of Set 8 | kasongo-lunda\n",
      "Processing Record 31 of Set 8 | contamana\n",
      "Processing Record 32 of Set 8 | hami\n",
      "Processing Record 33 of Set 8 | saint-augustin\n",
      "Processing Record 34 of Set 8 | samarinda\n",
      "Processing Record 35 of Set 8 | sibenik\n",
      "Processing Record 36 of Set 8 | avera\n",
      "Processing Record 37 of Set 8 | sinkat\n",
      "City not found. Skipping...\n",
      "Processing Record 38 of Set 8 | brekstad\n",
      "Processing Record 39 of Set 8 | cherskiy\n",
      "Processing Record 40 of Set 8 | namibe\n",
      "Processing Record 41 of Set 8 | damaturu\n",
      "Processing Record 42 of Set 8 | aquiraz\n",
      "Processing Record 43 of Set 8 | acapulco\n",
      "Processing Record 44 of Set 8 | iskateley\n",
      "Processing Record 45 of Set 8 | paraiso\n",
      "Processing Record 46 of Set 8 | hay river\n",
      "Processing Record 47 of Set 8 | boromo\n",
      "Processing Record 48 of Set 8 | antibes\n",
      "Processing Record 49 of Set 8 | batagay\n",
      "Processing Record 50 of Set 8 | chumikan\n",
      "Processing Record 1 of Set 9 | broome\n",
      "Processing Record 2 of Set 9 | port lincoln\n",
      "Processing Record 3 of Set 9 | sinnamary\n",
      "Processing Record 4 of Set 9 | kargasok\n",
      "Processing Record 5 of Set 9 | maniitsoq\n",
      "Processing Record 6 of Set 9 | akureyri\n",
      "Processing Record 7 of Set 9 | la ronge\n",
      "Processing Record 8 of Set 9 | kununurra\n",
      "Processing Record 9 of Set 9 | jalingo\n",
      "Processing Record 10 of Set 9 | bondo\n",
      "Processing Record 11 of Set 9 | bloemfontein\n",
      "Processing Record 12 of Set 9 | iqaluit\n",
      "Processing Record 13 of Set 9 | espanola\n",
      "Processing Record 14 of Set 9 | chara\n",
      "Processing Record 15 of Set 9 | los llanos de aridane\n",
      "Processing Record 16 of Set 9 | port keats\n",
      "Processing Record 17 of Set 9 | jasper\n",
      "Processing Record 18 of Set 9 | nishihara\n",
      "Processing Record 19 of Set 9 | te anau\n",
      "Processing Record 20 of Set 9 | westport\n",
      "Processing Record 21 of Set 9 | olonets\n",
      "Processing Record 22 of Set 9 | yambio\n",
      "Processing Record 23 of Set 9 | naze\n",
      "Processing Record 24 of Set 9 | shetpe\n",
      "Processing Record 25 of Set 9 | lafia\n",
      "Processing Record 26 of Set 9 | salinas\n",
      "Processing Record 27 of Set 9 | tirumullaivasal\n",
      "Processing Record 28 of Set 9 | benguela\n",
      "Processing Record 29 of Set 9 | amapa\n",
      "Processing Record 30 of Set 9 | sakaiminato\n",
      "Processing Record 31 of Set 9 | praia da vitoria\n",
      "Processing Record 32 of Set 9 | taoudenni\n",
      "Processing Record 33 of Set 9 | floro\n",
      "Processing Record 34 of Set 9 | khasan\n",
      "Processing Record 35 of Set 9 | usinsk\n",
      "Processing Record 36 of Set 9 | saint-pierre\n",
      "Processing Record 37 of Set 9 | zhanaozen\n",
      "Processing Record 38 of Set 9 | sao bartolomeu de messines\n",
      "Processing Record 39 of Set 9 | njombe\n",
      "Processing Record 40 of Set 9 | santiago del estero\n",
      "Processing Record 41 of Set 9 | general roca\n",
      "Processing Record 42 of Set 9 | shingu\n",
      "Processing Record 43 of Set 9 | batu\n",
      "Processing Record 44 of Set 9 | gambela\n",
      "Processing Record 45 of Set 9 | kamenskoye\n",
      "City not found. Skipping...\n",
      "Processing Record 46 of Set 9 | rio grande\n",
      "Processing Record 47 of Set 9 | aquin\n",
      "Processing Record 48 of Set 9 | mahibadhoo\n",
      "Processing Record 49 of Set 9 | khandyga\n",
      "Processing Record 50 of Set 9 | nyurba\n",
      "Processing Record 1 of Set 10 | namatanai\n",
      "Processing Record 2 of Set 10 | kasra\n",
      "City not found. Skipping...\n",
      "Processing Record 3 of Set 10 | katangli\n",
      "Processing Record 4 of Set 10 | samana\n",
      "Processing Record 5 of Set 10 | harper\n",
      "Processing Record 6 of Set 10 | jalu\n",
      "Processing Record 7 of Set 10 | kaitangata\n",
      "Processing Record 8 of Set 10 | goroka\n",
      "Processing Record 9 of Set 10 | kazalinsk\n",
      "City not found. Skipping...\n",
      "Processing Record 10 of Set 10 | vardo\n",
      "Processing Record 11 of Set 10 | port macquarie\n",
      "Processing Record 12 of Set 10 | dullewala\n",
      "Processing Record 13 of Set 10 | danshui\n",
      "Processing Record 14 of Set 10 | hamilton\n",
      "Processing Record 15 of Set 10 | madera\n",
      "Processing Record 16 of Set 10 | palu\n",
      "Processing Record 17 of Set 10 | las tunas\n",
      "Processing Record 18 of Set 10 | waspan\n",
      "Processing Record 19 of Set 10 | maridi\n",
      "Processing Record 20 of Set 10 | eyl\n",
      "Processing Record 21 of Set 10 | manta\n",
      "Processing Record 22 of Set 10 | zyryanka\n",
      "Processing Record 23 of Set 10 | tuensang\n",
      "Processing Record 24 of Set 10 | northam\n",
      "Processing Record 25 of Set 10 | samarai\n",
      "Processing Record 26 of Set 10 | torrelavega\n",
      "Processing Record 27 of Set 10 | kdyne\n",
      "Processing Record 28 of Set 10 | malumfashi\n",
      "Processing Record 29 of Set 10 | buloh kasap\n",
      "Processing Record 30 of Set 10 | auxerre\n",
      "Processing Record 31 of Set 10 | presidente dutra\n",
      "Processing Record 32 of Set 10 | shizunai\n",
      "Processing Record 33 of Set 10 | juneau\n",
      "Processing Record 34 of Set 10 | sao jose da coroa grande\n",
      "Processing Record 35 of Set 10 | lewisporte\n",
      "Processing Record 36 of Set 10 | bima\n",
      "Processing Record 37 of Set 10 | norsup\n",
      "Processing Record 38 of Set 10 | ouadda\n",
      "Processing Record 39 of Set 10 | zhangjiakou\n",
      "Processing Record 40 of Set 10 | tura\n",
      "Processing Record 41 of Set 10 | dunedin\n",
      "Processing Record 42 of Set 10 | lodja\n",
      "Processing Record 43 of Set 10 | shache\n",
      "Processing Record 44 of Set 10 | takoradi\n",
      "Processing Record 45 of Set 10 | chicama\n",
      "Processing Record 46 of Set 10 | kushuhum\n",
      "Processing Record 47 of Set 10 | qui nhon\n",
      "Processing Record 48 of Set 10 | port-gentil\n",
      "Processing Record 49 of Set 10 | hambantota\n",
      "Processing Record 50 of Set 10 | fairbanks\n",
      "Processing Record 1 of Set 11 | nieuw nickerie\n",
      "Processing Record 2 of Set 11 | lavrentiya\n",
      "Processing Record 3 of Set 11 | monze\n",
      "Processing Record 4 of Set 11 | talnakh\n",
      "Processing Record 5 of Set 11 | pilar\n",
      "Processing Record 6 of Set 11 | bhadrachalam\n",
      "Processing Record 7 of Set 11 | broken hill\n",
      "Processing Record 8 of Set 11 | cookeville\n",
      "Processing Record 9 of Set 11 | muros\n",
      "Processing Record 10 of Set 11 | simav\n",
      "Processing Record 11 of Set 11 | jumla\n",
      "Processing Record 12 of Set 11 | tara\n",
      "Processing Record 13 of Set 11 | tilichiki\n",
      "Processing Record 14 of Set 11 | hidalgo\n",
      "Processing Record 15 of Set 11 | sangar\n",
      "Processing Record 16 of Set 11 | murray bridge\n",
      "Processing Record 17 of Set 11 | rodrigues alves\n",
      "Processing Record 18 of Set 11 | scarborough\n",
      "Processing Record 19 of Set 11 | cheuskiny\n",
      "City not found. Skipping...\n",
      "Processing Record 20 of Set 11 | bilibino\n",
      "Processing Record 21 of Set 11 | palm springs\n",
      "Processing Record 22 of Set 11 | yuanping\n",
      "Processing Record 23 of Set 11 | chaadayevka\n",
      "Processing Record 24 of Set 11 | akyab\n",
      "Processing Record 25 of Set 11 | birjand\n",
      "Processing Record 26 of Set 11 | erzin\n",
      "Processing Record 27 of Set 11 | kirkwall\n",
      "Processing Record 28 of Set 11 | monrovia\n",
      "Processing Record 29 of Set 11 | sanchez\n",
      "Processing Record 30 of Set 11 | sept-iles\n",
      "Processing Record 31 of Set 11 | candolim\n",
      "Processing Record 32 of Set 11 | capuy\n",
      "Processing Record 33 of Set 11 | paita\n",
      "Processing Record 34 of Set 11 | maceio\n",
      "Processing Record 35 of Set 11 | gat\n",
      "Processing Record 36 of Set 11 | buraydah\n",
      "Processing Record 37 of Set 11 | orissaare\n",
      "Processing Record 38 of Set 11 | dunda\n",
      "Processing Record 39 of Set 11 | clervaux\n",
      "Processing Record 40 of Set 11 | sumbe\n",
      "Processing Record 41 of Set 11 | achit\n",
      "Processing Record 42 of Set 11 | orocue\n",
      "Processing Record 43 of Set 11 | galgani\n",
      "City not found. Skipping...\n",
      "Processing Record 44 of Set 11 | dianopolis\n",
      "City not found. Skipping...\n",
      "Processing Record 45 of Set 11 | bandundu\n",
      "Processing Record 46 of Set 11 | urucara\n",
      "Processing Record 47 of Set 11 | bani walid\n",
      "Processing Record 48 of Set 11 | almaznyy\n",
      "Processing Record 49 of Set 11 | waddan\n",
      "Processing Record 50 of Set 11 | cockburn town\n",
      "Processing Record 1 of Set 12 | zlobin\n",
      "Processing Record 2 of Set 12 | grindavik\n",
      "Processing Record 3 of Set 12 | orange cove\n",
      "Processing Record 4 of Set 12 | praia\n",
      "Processing Record 5 of Set 12 | marfino\n",
      "Processing Record 6 of Set 12 | aguimes\n",
      "Processing Record 7 of Set 12 | road town\n",
      "Processing Record 8 of Set 12 | sonoita\n",
      "Processing Record 9 of Set 12 | aripuana\n",
      "Processing Record 10 of Set 12 | helong\n",
      "Processing Record 11 of Set 12 | athabasca\n",
      "Processing Record 12 of Set 12 | nambutalai\n",
      "Processing Record 13 of Set 12 | irece\n",
      "Processing Record 14 of Set 12 | port hedland\n",
      "Processing Record 15 of Set 12 | kimbe\n",
      "Processing Record 16 of Set 12 | puerto baquerizo moreno\n",
      "Processing Record 17 of Set 12 | chivay\n",
      "Processing Record 18 of Set 12 | naryan-mar\n"
     ]
    },
    {
     "name": "stdout",
     "output_type": "stream",
     "text": [
      "Processing Record 19 of Set 12 | abu samrah\n",
      "Processing Record 20 of Set 12 | svetlaya\n",
      "Processing Record 21 of Set 12 | mehamn\n",
      "Processing Record 22 of Set 12 | santa cruz\n",
      "Processing Record 23 of Set 12 | kano\n",
      "Processing Record 24 of Set 12 | aykhal\n",
      "Processing Record 25 of Set 12 | vila do maio\n",
      "Processing Record 26 of Set 12 | tirat karmel\n",
      "Processing Record 27 of Set 12 | pithapuram\n",
      "Processing Record 28 of Set 12 | mehran\n",
      "Processing Record 29 of Set 12 | gangotri\n",
      "City not found. Skipping...\n",
      "Processing Record 30 of Set 12 | jermuk\n",
      "Processing Record 31 of Set 12 | san rafael\n",
      "Processing Record 32 of Set 12 | upala\n",
      "Processing Record 33 of Set 12 | lasa\n",
      "Processing Record 34 of Set 12 | pinehurst\n",
      "Processing Record 35 of Set 12 | mykhaylivka\n",
      "Processing Record 36 of Set 12 | siare\n",
      "City not found. Skipping...\n",
      "Processing Record 37 of Set 12 | hofn\n",
      "Processing Record 38 of Set 12 | necochea\n",
      "Processing Record 39 of Set 12 | nyrob\n",
      "Processing Record 40 of Set 12 | filadelfia\n",
      "Processing Record 41 of Set 12 | annau\n",
      "Processing Record 42 of Set 12 | merauke\n",
      "Processing Record 43 of Set 12 | riyadh\n",
      "Processing Record 44 of Set 12 | twentynine palms\n",
      "Processing Record 45 of Set 12 | hualmay\n",
      "Processing Record 46 of Set 12 | haileybury\n",
      "Processing Record 47 of Set 12 | marshall\n",
      "Processing Record 48 of Set 12 | chapais\n",
      "Processing Record 49 of Set 12 | kabare\n",
      "Processing Record 50 of Set 12 | churapcha\n",
      "Processing Record 1 of Set 13 | puliyur\n",
      "Processing Record 2 of Set 13 | bandarban\n",
      "Processing Record 3 of Set 13 | suluq\n",
      "Processing Record 4 of Set 13 | icara\n",
      "Processing Record 5 of Set 13 | coruripe\n",
      "Processing Record 6 of Set 13 | eskil\n",
      "Processing Record 7 of Set 13 | doctor pedro p. pena\n",
      "City not found. Skipping...\n",
      "Processing Record 8 of Set 13 | pachino\n",
      "Processing Record 9 of Set 13 | aranos\n",
      "Processing Record 10 of Set 13 | qaqortoq\n",
      "Processing Record 11 of Set 13 | teguldet\n",
      "Processing Record 12 of Set 13 | agirish\n",
      "Processing Record 13 of Set 13 | petropavlovka\n",
      "Processing Record 14 of Set 13 | nanyang\n",
      "Processing Record 15 of Set 13 | canakkale\n",
      "Processing Record 16 of Set 13 | notse\n",
      "Processing Record 17 of Set 13 | constitucion\n",
      "Processing Record 18 of Set 13 | loandjili\n",
      "Processing Record 19 of Set 13 | ati\n",
      "Processing Record 20 of Set 13 | talara\n",
      "Processing Record 21 of Set 13 | imbituba\n",
      "Processing Record 22 of Set 13 | vaitape\n",
      "Processing Record 23 of Set 13 | sao raimundo das mangabeiras\n",
      "Processing Record 24 of Set 13 | maloshuyka\n",
      "City not found. Skipping...\n",
      "Processing Record 25 of Set 13 | chapleau\n",
      "Processing Record 26 of Set 13 | kholm\n",
      "Processing Record 27 of Set 13 | correntina\n",
      "Processing Record 28 of Set 13 | kushima\n",
      "Processing Record 29 of Set 13 | mangan\n",
      "Processing Record 30 of Set 13 | bairiki\n",
      "Processing Record 31 of Set 13 | robertsport\n",
      "Processing Record 32 of Set 13 | mount gambier\n",
      "Processing Record 33 of Set 13 | borama\n",
      "City not found. Skipping...\n",
      "Processing Record 34 of Set 13 | plettenberg bay\n",
      "Processing Record 35 of Set 13 | puerto colombia\n",
      "Processing Record 36 of Set 13 | sri aman\n",
      "Processing Record 37 of Set 13 | anisoc\n",
      "Completed\n"
     ]
    }
   ],
   "source": [
    "base_url = \"http://api.openweathermap.org/data/2.5/weather?units=imperial&appid=\" + weather_api_key\n",
    "\n",
    "# Counters\n",
    "city_counter = 1\n",
    "set_counter = 1\n",
    "\n",
    "# Create the lists to hold relative data\n",
    "cities_list= []\n",
    "cloudiness = []\n",
    "country = []\n",
    "date = []\n",
    "humidity = []\n",
    "lat = []\n",
    "lng = []\n",
    "max_temp = []\n",
    "wind_speed = []\n",
    "\n",
    "print(\"Started\")\n",
    "\n",
    "# Create a query url for each city in the cities list to get json response\n",
    "for i, city in enumerate(cities):\n",
    "    \n",
    "    # Group cities as sets of 50s\n",
    "    if (i % 50 == 0 and i >= 50):\n",
    "        set_counter += 1\n",
    "        city_counter = 1\n",
    "         \n",
    "    # Create API url for each city\n",
    "    query_url = base_url +\"&q=\" + city\n",
    "    \n",
    "    # Get json respose for each city\n",
    "    response = requests.get(query_url).json()\n",
    "    \n",
    "    # Print the results \n",
    "    print(f\"Processing Record {city_counter} of Set {set_counter} | {city}\")\n",
    "    \n",
    "    # Increase city counter\n",
    "    city_counter += 1\n",
    "    \n",
    "   # Add the values to the lists\n",
    "    try:       \n",
    "        cloudiness.append(response[\"clouds\"][\"all\"])\n",
    "        country.append(response[\"sys\"][\"country\"])\n",
    "        date.append(response[\"dt\"])\n",
    "        humidity.append(response[\"main\"][\"humidity\"])\n",
    "        lat.append(response[\"coord\"][\"lat\"])\n",
    "        lng.append(response[\"coord\"][\"lon\"])\n",
    "        max_temp.append(response[\"main\"][\"temp_max\"])\n",
    "        wind_speed.append(response[\"wind\"][\"speed\"])\n",
    "        cities_list.append(response[\"name\"])\n",
    "    except:\n",
    "        print(\"City not found. Skipping...\")\n",
    "        pass\n",
    "        \n",
    "print(\"Completed\")"
   ]
  },
  {
   "cell_type": "markdown",
   "metadata": {},
   "source": [
    "### Convert Raw Data to DataFrame\n",
    "* Export the city data into a .csv.\n",
    "* Display the DataFrame"
   ]
  },
  {
   "cell_type": "code",
   "execution_count": 5,
   "metadata": {},
   "outputs": [
    {
     "data": {
      "text/plain": [
       "City          589\n",
       "Cloudiness    589\n",
       "Country       589\n",
       "Date          589\n",
       "Humidity      589\n",
       "Lat           589\n",
       "Lng           589\n",
       "Max Temp      589\n",
       "Wind Speed    589\n",
       "dtype: int64"
      ]
     },
     "execution_count": 5,
     "metadata": {},
     "output_type": "execute_result"
    }
   ],
   "source": [
    "# Create a dictionary to keep data \n",
    "weather_data = {\n",
    "     \"City\": cities_list,\n",
    "     \"Cloudiness\": cloudiness,\n",
    "     \"Country\": country,\n",
    "     \"Date\": date,\n",
    "     \"Humidity\": humidity,\n",
    "     \"Lat\": lat,\n",
    "     \"Lng\": lng,\n",
    "     \"Max Temp\": max_temp,\n",
    "     \"Wind Speed\": wind_speed    \n",
    " }\n",
    "\n",
    "# Create the data frame and count variables for each columns\n",
    "weather_df = pd.DataFrame(weather_data)\n",
    "weather_df.count()"
   ]
  },
  {
   "cell_type": "code",
   "execution_count": 6,
   "metadata": {},
   "outputs": [
    {
     "data": {
      "text/html": [
       "<div>\n",
       "<style scoped>\n",
       "    .dataframe tbody tr th:only-of-type {\n",
       "        vertical-align: middle;\n",
       "    }\n",
       "\n",
       "    .dataframe tbody tr th {\n",
       "        vertical-align: top;\n",
       "    }\n",
       "\n",
       "    .dataframe thead th {\n",
       "        text-align: right;\n",
       "    }\n",
       "</style>\n",
       "<table border=\"1\" class=\"dataframe\">\n",
       "  <thead>\n",
       "    <tr style=\"text-align: right;\">\n",
       "      <th></th>\n",
       "      <th>City</th>\n",
       "      <th>Cloudiness</th>\n",
       "      <th>Country</th>\n",
       "      <th>Date</th>\n",
       "      <th>Humidity</th>\n",
       "      <th>Lat</th>\n",
       "      <th>Lng</th>\n",
       "      <th>Max Temp</th>\n",
       "      <th>Wind Speed</th>\n",
       "    </tr>\n",
       "  </thead>\n",
       "  <tbody>\n",
       "    <tr>\n",
       "      <th>0</th>\n",
       "      <td>Dikson</td>\n",
       "      <td>0</td>\n",
       "      <td>RU</td>\n",
       "      <td>1616157756</td>\n",
       "      <td>96</td>\n",
       "      <td>73.5069</td>\n",
       "      <td>80.5464</td>\n",
       "      <td>-31.23</td>\n",
       "      <td>8.08</td>\n",
       "    </tr>\n",
       "    <tr>\n",
       "      <th>1</th>\n",
       "      <td>Yellowknife</td>\n",
       "      <td>40</td>\n",
       "      <td>CA</td>\n",
       "      <td>1616157756</td>\n",
       "      <td>79</td>\n",
       "      <td>62.4560</td>\n",
       "      <td>-114.3525</td>\n",
       "      <td>14.00</td>\n",
       "      <td>9.22</td>\n",
       "    </tr>\n",
       "    <tr>\n",
       "      <th>2</th>\n",
       "      <td>Lichinga</td>\n",
       "      <td>75</td>\n",
       "      <td>MZ</td>\n",
       "      <td>1616157757</td>\n",
       "      <td>69</td>\n",
       "      <td>-13.3128</td>\n",
       "      <td>35.2406</td>\n",
       "      <td>77.00</td>\n",
       "      <td>6.91</td>\n",
       "    </tr>\n",
       "    <tr>\n",
       "      <th>3</th>\n",
       "      <td>São João da Barra</td>\n",
       "      <td>0</td>\n",
       "      <td>BR</td>\n",
       "      <td>1616157757</td>\n",
       "      <td>69</td>\n",
       "      <td>-21.6403</td>\n",
       "      <td>-41.0511</td>\n",
       "      <td>82.40</td>\n",
       "      <td>6.91</td>\n",
       "    </tr>\n",
       "    <tr>\n",
       "      <th>4</th>\n",
       "      <td>Dalnerechensk</td>\n",
       "      <td>0</td>\n",
       "      <td>RU</td>\n",
       "      <td>1616157469</td>\n",
       "      <td>86</td>\n",
       "      <td>45.9339</td>\n",
       "      <td>133.7225</td>\n",
       "      <td>22.12</td>\n",
       "      <td>3.31</td>\n",
       "    </tr>\n",
       "  </tbody>\n",
       "</table>\n",
       "</div>"
      ],
      "text/plain": [
       "                City  Cloudiness Country        Date  Humidity      Lat  \\\n",
       "0             Dikson           0      RU  1616157756        96  73.5069   \n",
       "1        Yellowknife          40      CA  1616157756        79  62.4560   \n",
       "2           Lichinga          75      MZ  1616157757        69 -13.3128   \n",
       "3  São João da Barra           0      BR  1616157757        69 -21.6403   \n",
       "4      Dalnerechensk           0      RU  1616157469        86  45.9339   \n",
       "\n",
       "        Lng  Max Temp  Wind Speed  \n",
       "0   80.5464    -31.23        8.08  \n",
       "1 -114.3525     14.00        9.22  \n",
       "2   35.2406     77.00        6.91  \n",
       "3  -41.0511     82.40        6.91  \n",
       "4  133.7225     22.12        3.31  "
      ]
     },
     "execution_count": 6,
     "metadata": {},
     "output_type": "execute_result"
    }
   ],
   "source": [
    "weather_df.head()"
   ]
  },
  {
   "cell_type": "code",
   "execution_count": 7,
   "metadata": {},
   "outputs": [],
   "source": [
    "weather_df.to_csv(output_data_file, index=False)"
   ]
  },
  {
   "cell_type": "markdown",
   "metadata": {},
   "source": [
    "## Inspect the data and remove the cities where the humidity > 100%.\n",
    "----\n",
    "Skip this step if there are no cities that have humidity > 100%. "
   ]
  },
  {
   "cell_type": "code",
   "execution_count": 8,
   "metadata": {},
   "outputs": [
    {
     "name": "stdout",
     "output_type": "stream",
     "text": [
      "                  City  Cloudiness Country        Date  Humidity      Lat  \\\n",
      "0               Dikson           0      RU  1616157756        96  73.5069   \n",
      "1          Yellowknife          40      CA  1616157756        79  62.4560   \n",
      "2             Lichinga          75      MZ  1616157757        69 -13.3128   \n",
      "3    São João da Barra           0      BR  1616157757        69 -21.6403   \n",
      "4        Dalnerechensk           0      RU  1616157469        86  45.9339   \n",
      "..                 ...         ...     ...         ...       ...      ...   \n",
      "584      Mount Gambier           0      AU  1616157886        88 -37.8333   \n",
      "585    Plettenberg Bay          65      ZA  1616157908        78 -34.0527   \n",
      "586    Puerto Colombia          40      CO  1616157809        83  10.9878   \n",
      "587           Sri Aman           0      MY  1616157908        89   1.2376   \n",
      "588             Añisoc          95      GQ  1616157908        69   1.8658   \n",
      "\n",
      "          Lng  Max Temp  Wind Speed  \n",
      "0     80.5464    -31.23        8.08  \n",
      "1   -114.3525     14.00        9.22  \n",
      "2     35.2406     77.00        6.91  \n",
      "3    -41.0511     82.40        6.91  \n",
      "4    133.7225     22.12        3.31  \n",
      "..        ...       ...         ...  \n",
      "584  140.7667     60.80        6.91  \n",
      "585   23.3716     68.11       10.36  \n",
      "586  -74.9547     78.80        6.91  \n",
      "587  111.4621     82.40        1.14  \n",
      "588   10.7689     85.46        0.51  \n",
      "\n",
      "[589 rows x 9 columns]\n",
      "Int64Index([], dtype='int64')\n"
     ]
    }
   ],
   "source": [
    "weather_df = pd. read_csv(\"../WeatherPy/cities.csv\")\n",
    "print(weather_df)\n",
    "index = weather_df. index\n",
    "condition = weather_df[\"Humidity\"] > 100\n",
    "cities_indices = index[weather_df[\"Humidity\"] > 100] \n",
    "cities_indices_list = cities_indices\n",
    "print(cities_indices_list)"
   ]
  },
  {
   "cell_type": "code",
   "execution_count": 68,
   "metadata": {},
   "outputs": [],
   "source": [
    "#  Get the indices of cities that have humidity over 100%.\n",
    "no data with cities having humidity over 100%."
   ]
  },
  {
   "cell_type": "code",
   "execution_count": null,
   "metadata": {},
   "outputs": [],
   "source": [
    "# Make a new DataFrame equal to the city data to drop all humidity outliers by index.\n",
    "# Passing \"inplace=False\" will make a copy of the city_data DataFrame, which we call \"clean_city_data\".\n"
   ]
  },
  {
   "cell_type": "code",
   "execution_count": null,
   "metadata": {},
   "outputs": [],
   "source": [
    "\n"
   ]
  },
  {
   "cell_type": "markdown",
   "metadata": {},
   "source": [
    "## Plotting the Data\n",
    "* Use proper labeling of the plots using plot titles (including date of analysis) and axes labels.\n",
    "* Save the plotted figures as .pngs."
   ]
  },
  {
   "cell_type": "markdown",
   "metadata": {},
   "source": [
    "## Latitude vs. Temperature Plot"
   ]
  },
  {
   "cell_type": "code",
   "execution_count": 9,
   "metadata": {
    "scrolled": true
   },
   "outputs": [
    {
     "data": {
      "image/png": "[encoded data removed]",
      "text/plain": [
       "<Figure size 432x288 with 1 Axes>"
      ]
     },
     "metadata": {
      "needs_background": "light"
     },
     "output_type": "display_data"
    }
   ],
   "source": [
    "plt.scatter(weather_df[\"Lat\"], weather_df[\"Max Temp\"], marker = \"o\", facecolor = \"green\", edgecolor=\"black\")\n",
    "plt.title(\"City Latitude vs. Max Temperature (%s)\" % time.strftime(\"%x\"))\n",
    "plt.xlabel(\"Latitude\")\n",
    "plt.ylabel(\"Max Temprature (F)\")\n",
    "plt.grid()\n",
    "plt.savefig(\"../WeatherPy/temperature.png\")\n",
    "plt.show()\n"
   ]
  },
  {
   "cell_type": "code",
   "execution_count": null,
   "metadata": {},
   "outputs": [],
   "source": [
    "Analysis:Looking at the latitude and maximum temprature plot we can say as cities get closer to the equator,\n",
    "         tempratures tend to get higher"
   ]
  },
  {
   "cell_type": "markdown",
   "metadata": {},
   "source": [
    "## Latitude vs. Humidity Plot"
   ]
  },
  {
   "cell_type": "code",
   "execution_count": 10,
   "metadata": {},
   "outputs": [
    {
     "data": {
      "image/png": "[encoded data removed]",
      "text/plain": [
       "<Figure size 432x288 with 1 Axes>"
      ]
     },
     "metadata": {
      "needs_background": "light"
     },
     "output_type": "display_data"
    }
   ],
   "source": [
    "plt.scatter(weather_df[\"Lat\"], weather_df[\"Humidity\"], marker = \"o\", facecolor = \"green\", edgecolor=\"black\")\n",
    "plt.title(\"City Latitude vs. Humidity (%s)\" % time.strftime(\"%x\"))\n",
    "plt.xlabel(\"Latitude\")\n",
    "plt.ylabel(\"Humidity\")\n",
    "plt.grid()\n",
    "plt.savefig(\"../WeatherPy/humidity.png\")\n",
    "plt.show()\n"
   ]
  },
  {
   "cell_type": "code",
   "execution_count": null,
   "metadata": {},
   "outputs": [],
   "source": [
    "Analysis: For humidity, the plot doesnt show any relation between latitude and humidity. \n",
    "          Humidity doesn get higher or lower as we get closer to the equator. \n",
    "          Different latitudes can have similar humidity rates, or similar latidues can have different humidity rates."
   ]
  },
  {
   "cell_type": "markdown",
   "metadata": {},
   "source": [
    "## Latitude vs. Cloudiness Plot"
   ]
  },
  {
   "cell_type": "code",
   "execution_count": 11,
   "metadata": {},
   "outputs": [
    {
     "data": {
      "image/png": "[encoded data removed]",
      "text/plain": [
       "<Figure size 432x288 with 1 Axes>"
      ]
     },
     "metadata": {
      "needs_background": "light"
     },
     "output_type": "display_data"
    }
   ],
   "source": [
    "plt.scatter(weather_df[\"Lat\"], weather_df[\"Cloudiness\"], marker = \"o\", facecolor = \"green\", edgecolor=\"black\")\n",
    "plt.xlabel(\"Latitude\")\n",
    "plt.ylabel(\"Cloudiness (%)\")\n",
    "plt.title(\"City Latitude vs Cloudiness (%s)\" % time.strftime(\"%x\"))\n",
    "plt.grid()\n",
    "plt.savefig(\"../WeatherPy/cloudliness.png\")\n",
    "plt.show()"
   ]
  },
  {
   "cell_type": "code",
   "execution_count": null,
   "metadata": {},
   "outputs": [],
   "source": [
    "Analysis: For cloudiness, again we cant point any relation between latitude and cloudiness as we get closer to the equator.\n",
    "          Cities that are closer to the equator dont show any trend like they have any similarity for cloudiness."
   ]
  },
  {
   "cell_type": "markdown",
   "metadata": {},
   "source": [
    "## Latitude vs. Wind Speed Plot"
   ]
  },
  {
   "cell_type": "code",
   "execution_count": 12,
   "metadata": {},
   "outputs": [
    {
     "data": {
      "image/png": "[encoded data removed]",
      "text/plain": [
       "<Figure size 432x288 with 1 Axes>"
      ]
     },
     "metadata": {
      "needs_background": "light"
     },
     "output_type": "display_data"
    }
   ],
   "source": [
    "plt.scatter(weather_df[\"Lat\"], weather_df[\"Wind Speed\"], marker = \"o\", facecolor = \"green\", edgecolor=\"black\")\n",
    "plt.xlabel(\"Latitude\")\n",
    "plt.ylabel(\"Speed (mph)\")\n",
    "plt.title(\"City Latitude vs Wind Speed (%s)\" % time.strftime(\"%x\"))\n",
    "plt.grid()\n",
    "plt.savefig(\"../WeatherPy/windspeed.png\")\n",
    "plt.show()"
   ]
  },
  {
   "cell_type": "code",
   "execution_count": null,
   "metadata": {},
   "outputs": [],
   "source": [
    "Analysis:For wind speed, the plot shows cities that have very diffirent latitudes can have similar wind speeds, and similar latitudes doesnt necessarily have the similar wind speeds.\n",
    "         So we can say latitude and wind speed doesnt create a trend."
   ]
  },
  {
   "cell_type": "markdown",
   "metadata": {},
   "source": [
    "## Linear Regression"
   ]
  },
  {
   "cell_type": "code",
   "execution_count": 51,
   "metadata": {},
   "outputs": [],
   "source": [
    "def linear_reg_plot(x_values,y_values):\n",
    "    (slope, intercept, rvalue, pvalue, stderr) = linregress(x_values, y_values)\n",
    "    regress_values = x_values * slope + intercept\n",
    "    line_eq = \"y = \" + str(round(slope,2)) + \"x + \" + str(round(intercept,2))\n",
    "    plt.scatter(x_values,y_values)\n",
    "    plt.plot(x_values,regress_values,\"r-\")\n",
    "    plt.annotate(line_eq,(x_values.median(),y_values.median()),fontsize=15,color=\"red\")\n",
    "    plt.xlabel(\"Latitude\")\n",
    "    print(f\"The r-squared is: {rvalue}\")\n",
    "    plt.show()"
   ]
  },
  {
   "cell_type": "code",
   "execution_count": 52,
   "metadata": {},
   "outputs": [],
   "source": [
    "Northern_hemisphere = weather_df.loc[weather_df[\"Lat\"]>0]\n",
    "Southern_hemisphere = weather_df.loc[weather_df[\"Lat\"]<0]"
   ]
  },
  {
   "cell_type": "markdown",
   "metadata": {},
   "source": [
    "####  Northern Hemisphere - Max Temp vs. Latitude Linear Regression"
   ]
  },
  {
   "cell_type": "code",
   "execution_count": 53,
   "metadata": {},
   "outputs": [
    {
     "name": "stdout",
     "output_type": "stream",
     "text": [
      "The r-squared is: -0.8768552068391039\n"
     ]
    },
    {
     "data": {
      "image/png": "[encoded data removed]",
      "text/plain": [
       "<Figure size 432x288 with 1 Axes>"
      ]
     },
     "metadata": {
      "needs_background": "light"
     },
     "output_type": "display_data"
    },
    {
     "name": "stdout",
     "output_type": "stream",
     "text": [
      "None\n"
     ]
    }
   ],
   "source": [
    "x_values = Northern_hemisphere[\"Lat\"]\n",
    "y_values = Northern_hemisphere[\"Max Temp\"]\n",
    "plt.ylabel(\"Max Temp (F)\")\n",
    "print(linear_reg_plot(x_values,y_values))"
   ]
  },
  {
   "cell_type": "code",
   "execution_count": null,
   "metadata": {},
   "outputs": [],
   "source": [
    "The Max Temperature vs. Latitude plot for cities in the northern hemisphere is shown above. \n",
    "The max temperature appears show a strong negative linear relationship with latitudes in the northern hemisphere, \n",
    "with an r-value of -0.87 for the linear best-fit regression line."
   ]
  },
  {
   "cell_type": "markdown",
   "metadata": {},
   "source": [
    "####  Southern Hemisphere - Max Temp vs. Latitude Linear Regression"
   ]
  },
  {
   "cell_type": "code",
   "execution_count": 54,
   "metadata": {},
   "outputs": [
    {
     "name": "stdout",
     "output_type": "stream",
     "text": [
      "The r-squared is: 0.7723103655727277\n"
     ]
    },
    {
     "data": {
      "image/png": "[encoded data removed]",
      "text/plain": [
       "<Figure size 432x288 with 1 Axes>"
      ]
     },
     "metadata": {
      "needs_background": "light"
     },
     "output_type": "display_data"
    },
    {
     "name": "stdout",
     "output_type": "stream",
     "text": [
      "None\n"
     ]
    }
   ],
   "source": [
    "x_values = Southern_hemisphere[\"Lat\"]\n",
    "y_values = Southern_hemisphere[\"Max Temp\"]\n",
    "plt.ylabel(\"Max Temp (F)\")\n",
    "print(linear_reg_plot(x_values,y_values))"
   ]
  },
  {
   "cell_type": "code",
   "execution_count": null,
   "metadata": {},
   "outputs": [],
   "source": [
    "The Max Temperature vs. Latitude plot for cities in the southern hemisphere is shown above. \n",
    "The max temperature appears show a strong positive linear relationship with latitudes in the southern hemisphere, \n",
    "with an r-value of 0.77 for the linear best-fit regression line."
   ]
  },
  {
   "cell_type": "markdown",
   "metadata": {},
   "source": [
    "####  Northern Hemisphere - Humidity (%) vs. Latitude Linear Regression"
   ]
  },
  {
   "cell_type": "code",
   "execution_count": 55,
   "metadata": {},
   "outputs": [
    {
     "name": "stdout",
     "output_type": "stream",
     "text": [
      "The r-squared is: 0.30506937710980997\n"
     ]
    },
    {
     "data": {
      "image/png": "[encoded data removed]",
      "text/plain": [
       "<Figure size 432x288 with 1 Axes>"
      ]
     },
     "metadata": {
      "needs_background": "light"
     },
     "output_type": "display_data"
    },
    {
     "name": "stdout",
     "output_type": "stream",
     "text": [
      "None\n"
     ]
    }
   ],
   "source": [
    "x_values = Northern_hemisphere[\"Lat\"]\n",
    "y_values = Northern_hemisphere[\"Humidity\"]\n",
    "plt.ylabel(\"Humidity (%)\")\n",
    "print(linear_reg_plot(x_values,y_values))\n"
   ]
  },
  {
   "cell_type": "code",
   "execution_count": null,
   "metadata": {},
   "outputs": [],
   "source": [
    "The Humidity vs. Latitude plot for cities in the northern hemisphere is shown above. \n",
    "The data seems to show no relationship between the humidity and latitude for the northern hemisphere."
   ]
  },
  {
   "cell_type": "markdown",
   "metadata": {},
   "source": [
    "####  Southern Hemisphere - Humidity (%) vs. Latitude Linear Regression"
   ]
  },
  {
   "cell_type": "code",
   "execution_count": 56,
   "metadata": {},
   "outputs": [
    {
     "name": "stdout",
     "output_type": "stream",
     "text": [
      "The r-squared is: 0.09089000468702331\n"
     ]
    },
    {
     "data": {
      "image/png": "[encoded data removed]",
      "text/plain": [
       "<Figure size 432x288 with 1 Axes>"
      ]
     },
     "metadata": {
      "needs_background": "light"
     },
     "output_type": "display_data"
    },
    {
     "name": "stdout",
     "output_type": "stream",
     "text": [
      "None\n"
     ]
    }
   ],
   "source": [
    "x_values = Southern_hemisphere[\"Lat\"]\n",
    "y_values = Southern_hemisphere[\"Humidity\"]\n",
    "plt.ylim(0, y_values.max()+100)\n",
    "plt.ylabel(\"Humidity (%)\")\n",
    "print(linear_reg_plot(x_values,y_values))"
   ]
  },
  {
   "cell_type": "code",
   "execution_count": null,
   "metadata": {},
   "outputs": [],
   "source": [
    "The Humidity vs. Latitude plot for cities in the southern hemisphere is shown above. \n",
    "The data seems to show no relationship between the humidity and latitude for the southern hemisphere.\n",
    "\n"
   ]
  },
  {
   "cell_type": "markdown",
   "metadata": {},
   "source": [
    "####  Northern Hemisphere - Cloudiness (%) vs. Latitude Linear Regression"
   ]
  },
  {
   "cell_type": "code",
   "execution_count": 57,
   "metadata": {},
   "outputs": [
    {
     "name": "stdout",
     "output_type": "stream",
     "text": [
      "The r-squared is: 0.16693033427359874\n"
     ]
    },
    {
     "data": {
      "image/png": "[encoded data removed]",
      "text/plain": [
       "<Figure size 432x288 with 1 Axes>"
      ]
     },
     "metadata": {
      "needs_background": "light"
     },
     "output_type": "display_data"
    },
    {
     "name": "stdout",
     "output_type": "stream",
     "text": [
      "None\n"
     ]
    }
   ],
   "source": [
    "x_values = Northern_hemisphere[\"Lat\"]\n",
    "y_values = Northern_hemisphere[\"Cloudiness\"]\n",
    "plt.ylabel(\"Cloudiness\")\n",
    "print(linear_reg_plot(x_values,y_values))"
   ]
  },
  {
   "cell_type": "code",
   "execution_count": null,
   "metadata": {},
   "outputs": [],
   "source": [
    "The Cloudiness vs. Latitude plot for cities in the northern hemisphere is shown above. \n",
    "The data seems to show no relationship between cloudiness and latitude for the northern hemisphere."
   ]
  },
  {
   "cell_type": "markdown",
   "metadata": {},
   "source": [
    "####  Southern Hemisphere - Cloudiness (%) vs. Latitude Linear Regression"
   ]
  },
  {
   "cell_type": "code",
   "execution_count": 58,
   "metadata": {},
   "outputs": [
    {
     "name": "stdout",
     "output_type": "stream",
     "text": [
      "The r-squared is: 0.3496020568286428\n"
     ]
    },
    {
     "data": {
      "image/png": "[encoded data removed]",
      "text/plain": [
       "<Figure size 432x288 with 1 Axes>"
      ]
     },
     "metadata": {
      "needs_background": "light"
     },
     "output_type": "display_data"
    },
    {
     "name": "stdout",
     "output_type": "stream",
     "text": [
      "None\n"
     ]
    }
   ],
   "source": [
    "x_values = Southern_hemisphere[\"Lat\"]\n",
    "y_values = Southern_hemisphere[\"Cloudiness\"]\n",
    "plt.ylabel(\"Cloudiness\")\n",
    "print(linear_reg_plot(x_values,y_values))"
   ]
  },
  {
   "cell_type": "code",
   "execution_count": null,
   "metadata": {},
   "outputs": [],
   "source": [
    "The Cloudiness vs. Latitude plot for cities in the southern hemisphere is shown above. \n",
    "The data seems to show no relationship between cloudiness and latitude for the southern hemisphere.\n",
    "\n"
   ]
  },
  {
   "cell_type": "markdown",
   "metadata": {},
   "source": [
    "####  Northern Hemisphere - Wind Speed (mph) vs. Latitude Linear Regression"
   ]
  },
  {
   "cell_type": "code",
   "execution_count": 59,
   "metadata": {},
   "outputs": [
    {
     "name": "stdout",
     "output_type": "stream",
     "text": [
      "The r-squared is: 0.07113402334003938\n"
     ]
    },
    {
     "data": {
      "image/png": "[encoded data removed]",
      "text/plain": [
       "<Figure size 432x288 with 1 Axes>"
      ]
     },
     "metadata": {
      "needs_background": "light"
     },
     "output_type": "display_data"
    },
    {
     "name": "stdout",
     "output_type": "stream",
     "text": [
      "None\n"
     ]
    }
   ],
   "source": [
    "x_values = Northern_hemisphere[\"Lat\"]\n",
    "y_values = Northern_hemisphere[\"Wind Speed\"]\n",
    "plt.ylabel(\"Wind Speed\")\n",
    "print(linear_reg_plot(x_values,y_values))"
   ]
  },
  {
   "cell_type": "code",
   "execution_count": null,
   "metadata": {},
   "outputs": [],
   "source": [
    "The Wind Speed vs. Latitude plot for cities in the northern hemisphere is shown above. \n",
    "The data seems to show no relationship between wind speed and latitude for the northern hemisphere."
   ]
  },
  {
   "cell_type": "markdown",
   "metadata": {},
   "source": [
    "####  Southern Hemisphere - Wind Speed (mph) vs. Latitude Linear Regression"
   ]
  },
  {
   "cell_type": "code",
   "execution_count": 60,
   "metadata": {},
   "outputs": [
    {
     "name": "stdout",
     "output_type": "stream",
     "text": [
      "The r-squared is: -0.34026691027673484\n"
     ]
    },
    {
     "data": {
      "image/png": "[encoded data removed]",
      "text/plain": [
       "<Figure size 432x288 with 1 Axes>"
      ]
     },
     "metadata": {
      "needs_background": "light"
     },
     "output_type": "display_data"
    },
    {
     "name": "stdout",
     "output_type": "stream",
     "text": [
      "None\n"
     ]
    }
   ],
   "source": [
    "x_values = Southern_hemisphere[\"Lat\"]\n",
    "y_values = Southern_hemisphere[\"Wind Speed\"]\n",
    "plt.ylabel(\"Wind Speed\")\n",
    "print(linear_reg_plot(x_values,y_values))"
   ]
  },
  {
   "cell_type": "code",
   "execution_count": null,
   "metadata": {},
   "outputs": [],
   "source": [
    "The Wind Speed vs. Latitude plot for cities in the southern hemisphere is shown above. \n",
    "The data seems to show no relationship between wind speed and latitude for the southern hemisphere."
   ]
  },
  {
   "cell_type": "code",
   "execution_count": null,
   "metadata": {},
   "outputs": [],
   "source": []
  }
 ],
 "metadata": {
  "anaconda-cloud": {},
  "kernel_info": {
   "name": "python3"
  },
  "kernelspec": {
   "display_name": "Python 3",
   "language": "python",
   "name": "python3"
  },
  "language_info": {
   "codemirror_mode": {
    "name": "ipython",
    "version": 3
   },
   "file_extension": ".py",
   "mimetype": "text/x-python",
   "name": "python",
   "nbconvert_exporter": "python",
   "pygments_lexer": "ipython3",
   "version": "3.8.5"
  },
  "latex_envs": {
   "LaTeX_envs_menu_present": true,
   "autoclose": false,
   "autocomplete": true,
   "bibliofile": "biblio.bib",
   "cite_by": "apalike",
   "current_citInitial": 1,
   "eqLabelWithNumbers": true,
   "eqNumInitial": 1,
   "hotkeys": {
    "equation": "Ctrl-E",
    "itemize": "Ctrl-I"
   },
   "labels_anchors": false,
   "latex_user_defs": false,
   "report_style_numbering": false,
   "user_envs_cfg": false
  },
  "nteract": {
   "version": "0.12.3"
  }
 },
 "nbformat": 4,
 "nbformat_minor": 2
}
